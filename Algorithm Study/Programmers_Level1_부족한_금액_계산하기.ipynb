{
 "cells": [
  {
   "cell_type": "markdown",
   "metadata": {},
   "source": [
    "<span style=\"font-family: 을유1945; font-size: 30px; font-weight: 500\">부족한 금액 계산하기</span>"
   ]
  },
  {
   "cell_type": "markdown",
   "metadata": {},
   "source": [
    "<span style=\"font-family: 을유1945; font-size: 25px;\">1. 문제 설명</span>\n",
    "\n",
    "<span style=\"font-family: 을유1945; font-size: 17px;\">&nbsp;&nbsp;&nbsp;&nbsp;새로 생긴 놀이기구는 인기가 매우 많아 줄이 끊이질 않습니다. 이 놀이기구의 원래 이용료는 <b><span style=\"color: #FFD700\">price</span></b>원인데, 놀이기구를 <b><span style=\"color: #FFD700\">N</span></b>번 째 이용한다면 원래 이용료의 <b><span style=\"color: #FFD700\">N</span></b>배를 받기로 하였습니다. 즉, 처음 이용료가 100이었다면 2번째에는 200, 3번째에는 300으로 요금이 인상됩니다.</span>\n",
    "\n",
    "<span style=\"font-family: 을유1945; font-size: 17px;\">&nbsp;&nbsp;&nbsp;&nbsp;놀이기구를 <b><span style=\"color: #FFD700\">count</span></b>번 타게 되면 현재 자신이 가지고 있는 금액에서 얼마가 모자라는지를 반환(Return)하도록 <b><span style=\"color: #FFD700\">solution</span></b> 함수를 완성하세요.</span>\n",
    "\n",
    "<span style=\"font-family: 을유1945; font-size: 17px;\">&nbsp;&nbsp;&nbsp;&nbsp;단, 금액이 부족하지 않으면 0을 반환(Return)하세요.</span>"
   ]
  },
  {
   "cell_type": "markdown",
   "metadata": {},
   "source": [
    "<span style=\"font-family: 을유1945; font-size: 25px;\">2. 제한사항</span>\n",
    "\n",
    "<span style=\"font-family: 을유1945; font-size: 17px;\">&nbsp;&nbsp;&nbsp;&nbsp;● 놀이기구의 이용료(<b><span style=\"color: #FFD700\">price</span></b>) : 1 ≤ price ≤ 2,500, price는 자연수</span>\n",
    "\n",
    "<span style=\"font-family: 을유1945; font-size: 17px;\">&nbsp;&nbsp;&nbsp;&nbsp;● 처음 가지고 있던 금액(<b><span style=\"color: #FFD700\">money</span></b>) : 1 ≤ money ≤ 1,000,000,000, money는 자연수</span>\n",
    "\n",
    "<span style=\"font-family: 을유1945; font-size: 17px;\">&nbsp;&nbsp;&nbsp;&nbsp;● 놀이기구의 이용 횟수(<b><span style=\"color: #FFD700\">count</span></b>) : 1 ≤ count ≤ 2,500, count는 자연수</span>"
   ]
  },
  {
   "cell_type": "markdown",
   "metadata": {},
   "source": [
    "<span style=\"font-family: 을유1945; font-size: 25px;\">3. 답안</span>"
   ]
  },
  {
   "cell_type": "code",
   "execution_count": 19,
   "metadata": {},
   "outputs": [],
   "source": [
    "def solution(price, money, count):\n",
    "\n",
    "    # 총 이용료 변수 초기화\n",
    "    total_price = 0\n",
    "\n",
    "    # 반복문을 통한 총 이용료 도출\n",
    "    for i in range(count):\n",
    "        total_price += (i + 1) * price\n",
    "\n",
    "    # 총 이용료가 처음 가지고 있던 금액보다 적은 경우 0이 도출\n",
    "    answer = max(total_price - money, 0)\n",
    "\n",
    "    # 결과 값 반환\n",
    "    return answer"
   ]
  },
  {
   "cell_type": "code",
   "execution_count": 18,
   "metadata": {},
   "outputs": [
    {
     "data": {
      "text/plain": [
       "10"
      ]
     },
     "execution_count": 18,
     "metadata": {},
     "output_type": "execute_result"
    }
   ],
   "source": [
    "# 입출력 예시 : 결과 값 10\n",
    "solution(3, 20, 4)"
   ]
  },
  {
   "cell_type": "markdown",
   "metadata": {},
   "source": [
    "<span style=\"font-family: 을유1945; font-size: 25px;\">4. 해설</span>"
   ]
  },
  {
   "cell_type": "code",
   "execution_count": 21,
   "metadata": {},
   "outputs": [],
   "source": [
    "def another_solution(price, money, count):\n",
    "\n",
    "    # 총 이용료를 별도의 변수를 이용하지 않고, 등차수열의 합 공식으로 처리\n",
    "    return max(0, price * (count + 1) * count // 2 - money)"
   ]
  },
  {
   "cell_type": "code",
   "execution_count": 23,
   "metadata": {},
   "outputs": [
    {
     "data": {
      "text/plain": [
       "10"
      ]
     },
     "execution_count": 23,
     "metadata": {},
     "output_type": "execute_result"
    }
   ],
   "source": [
    "# 입출력 예시 : 결과 값 10\n",
    "another_solution(3, 20, 4)"
   ]
  }
 ],
 "metadata": {
  "kernelspec": {
   "display_name": "Python 3.10.4 ('study')",
   "language": "python",
   "name": "python3"
  },
  "language_info": {
   "codemirror_mode": {
    "name": "ipython",
    "version": 3
   },
   "file_extension": ".py",
   "mimetype": "text/x-python",
   "name": "python",
   "nbconvert_exporter": "python",
   "pygments_lexer": "ipython3",
   "version": "3.10.4"
  },
  "orig_nbformat": 4,
  "vscode": {
   "interpreter": {
    "hash": "2cfda4edd5fd29a80a355332d4a199ceff4e11192a2c7367aec533c8ff01e680"
   }
  }
 },
 "nbformat": 4,
 "nbformat_minor": 2
}
