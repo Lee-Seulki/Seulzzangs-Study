{
 "cells": [
  {
   "cell_type": "markdown",
   "metadata": {},
   "source": [
    "# 최소 공통 조상(Lowest Common Ancestor): 기초 문제\n",
    "- BOJ LCA 문제 https://www.acmicpc.net/problem/11437"
   ]
  },
  {
   "cell_type": "markdown",
   "metadata": {},
   "source": [
    "# 최소 공통 조상\n",
    "- 두 노드의 공통된 조상 중 가장 가까운 조상을 찾는 문제\n",
    "# LCA 알고리즘\n",
    "1. 모든 노드에 대한 깊이를 계산\n",
    "2. 최소 공통 조상을 찾을 두 노드 확인   \n",
    "(1) 먼저 두 노드의 깊이가 동일하도록 거슬러 올라감   \n",
    "(2) 이후에 부모가 같아질 때 까지 반복적으로 두 노드의 부모 방향으로 거슬러 올라감   \n",
    "3. 모든 LCA(a, b)연산에 대하여 2번의 과정을 반복\n",
    "(DFS를 이용해 깊이 구하기)"
   ]
  },
  {
   "cell_type": "code",
   "execution_count": null,
   "metadata": {},
   "outputs": [],
   "source": [
    "import sys\n",
    "sys.setrecursionlimit(int(1e5)) # 런타임 오류를 피하기 위한 재귀 깊이 제한 설정\n",
    "\n",
    "n = int(input())\n",
    "\n",
    "parent = [0] * (n + 1) # 부모 노드 정보\n",
    "d = [0] * (n + 1) # 각 노드까지의 깊이\n",
    "c = [0] * (n + 1) # 각 노드의 깊이가 계산되었는지 여부\n",
    "graph = [[] for _ in range(n + 1)] # 그래프(graph) 정보\n",
    "\n",
    "for _ in range(n - 1):\n",
    "    a, b = map(int, input().split())\n",
    "    graph[a].append(b)\n",
    "    graph[b].append(a)\n",
    "\n",
    "# 루트 노드부터 시작하여 깊이(depth)를 구하는 함수\n",
    "def dfs(x, depth):\n",
    "    c[x] = True\n",
    "    d[x] = depth\n",
    "    for y in graph[x]:\n",
    "        if c[y]: # 이미 깊이를 구했다면 넘기기\n",
    "            continue\n",
    "        parent[y] = x\n",
    "        dfs(y, depth + 1)\n",
    "\n",
    "# A와 B의 최소 공통 조상을 찾는 함수\n",
    "def lca(a, b):\n",
    "    # 먼저 깊이(depth)가 동일하도록\n",
    "    while d[a] != d[b]:\n",
    "        if d[a] > d[b]:\n",
    "            a = parent[a]\n",
    "        else:\n",
    "            b = parent[b]\n",
    "    # 노드가 같아지도록\n",
    "    while a != b:\n",
    "        a = parent[a]\n",
    "        b = parent[b]\n",
    "    return a\n",
    "\n",
    "dfs(1, 0) # 루트 노드는 1번 노드\n",
    "\n",
    "m = int(input())\n",
    "\n",
    "for i in range(m):\n",
    "    a, b = map(int, input().split())\n",
    "    print(lca(a, b))"
   ]
  },
  {
   "cell_type": "markdown",
   "metadata": {},
   "source": [
    "# 기본적인 LCA 알고리즘: 시간 복잡도 분석\n",
    "- 매 쿼리마다 부모 방향으로 거슬러 올라가기 위해 최악의 경우 O(N)의 시간 복잡도가 요구됨\n",
    "    - 따라서 모든 쿼리를 처리할 때의 시간 복잡도는 O(NM)"
   ]
  },
  {
   "cell_type": "markdown",
   "metadata": {},
   "source": [
    "# LCA 심화 문제\n",
    "- BOJ LCA 2 문제 https://www.acmicpc.net/problem/11438"
   ]
  },
  {
   "cell_type": "markdown",
   "metadata": {},
   "source": [
    "# LCA 알고리즘 개선하기\n",
    "- 각 노드가 거슬러 올라가는 속도를 빠르게 만드는 방법에 대하여 고민해봅시다!\n",
    "   - 만약 총 15칸을 거슬러 올라가야 한다면?\n",
    "       - 8칸 - 4칸 - 2칸 -1칸\n",
    "- 2의 제곱 형태로 거슬러 올라가도록 하면 O(logN)의 시간 복잡도를 보장할 수 있음\n",
    "- 메모리를 조금 더 사용하여 각 노드에 대하여 `2**i`번째 부모에 대한 정보를 기록합시다."
   ]
  },
  {
   "cell_type": "code",
   "execution_count": null,
   "metadata": {},
   "outputs": [],
   "source": [
    "import sys\n",
    "input = sys.stdin.readline # 시간 초과를 피하기 위한 빠른 입력 함수\n",
    "sys.setrecursionlimit(int(1e5)) # 런타임 오류를 피하기 위한 재귀 깊이 제한 설정\n",
    "LOG = 21 # 2^20 = 1,000,000\n",
    "\n",
    "n = int(input())\n",
    "parent = [[0] * LOG for _ in range(n + 1)] # 부모 노드 정보\n",
    "d = [0] * (n + 1) # 각 노드까지의 깊이\n",
    "c = [0] * (n + 1) # 각 노드의 깊이가 계산되었는지 여부\n",
    "graph = [[] for _ in range(n + 1)] # 그래프(graph) 정보\n",
    "\n",
    "for _ in range(n - 1):\n",
    "    a, b = map(int, input().split())\n",
    "    graph[a].append(b)\n",
    "    graph[b].append(a)\n",
    "\n",
    "# 루트 노드부터 시작하여 깊이(depth)를 구하는 함수\n",
    "def dfs(x, depth):\n",
    "    c[x] = True\n",
    "    d[x] = depth\n",
    "    for y in graph[x]:\n",
    "        if c[y]: # 이미 깊이를 구했다면 넘기기\n",
    "            continue\n",
    "        parent[y][0] = x\n",
    "        dfs(y, depth + 1)\n",
    "\n",
    "# 전체 부모 관계를 설정하는 함수\n",
    "def set_parent():\n",
    "    dfs(1, 0) # 루트 노드는 1번 노드\n",
    "    for i in range(1, LOG):\n",
    "        for j in range(1, n + 1):\n",
    "            parent[j][i] = parent[parent[j][i - 1]][i - 1]\n",
    "\n",
    "# A와 B의 최소 공통 조상을 찾는 함수\n",
    "def lca(a, b):\n",
    "    # b가 더 깊도록 설정\n",
    "    if d[a] > d[b]:\n",
    "        a, b = b, a\n",
    "    # 먼저 깊이(depth)가 동일하도록\n",
    "    for i in range(LOG - 1, -1, -1):\n",
    "        if d[b] - d[a] >= (1 << i):\n",
    "            b = parent[b][i]\n",
    "    # 부모가 같아지도록\n",
    "    if a == b:\n",
    "        return a\n",
    "    for i in range(LOG - 1, -1, -1):\n",
    "        # 조상을 향해 거슬러 올라가기\n",
    "        if parent[a][i] != parent[b][i]:\n",
    "            a = parent[a][i]\n",
    "            b = parent[b][i]\n",
    "    # 이후에 부모가 찾고자 하는 조상\n",
    "    return parent[a][0]\n",
    "\n",
    "set_parent()\n",
    "\n",
    "m = int(input())\n",
    "\n",
    "for i in range(m):\n",
    "    a, b = map(int, input().split())\n",
    "    print(lca(a, b))"
   ]
  }
 ],
 "metadata": {
  "language_info": {
   "name": "python"
  },
  "orig_nbformat": 4
 },
 "nbformat": 4,
 "nbformat_minor": 2
}
