{
 "cells": [
  {
   "cell_type": "markdown",
   "metadata": {},
   "source": [
    "# 10818번"
   ]
  },
  {
   "cell_type": "code",
   "execution_count": 1,
   "metadata": {},
   "outputs": [
    {
     "name": "stdout",
     "output_type": "stream",
     "text": [
      "7 35\n"
     ]
    }
   ],
   "source": [
    "N = int(input())\n",
    "numlist = list(map(int, input().split()))\n",
    "print(min(numlist), max(numlist))"
   ]
  },
  {
   "cell_type": "markdown",
   "metadata": {},
   "source": [
    "# 2562번"
   ]
  },
  {
   "cell_type": "code",
   "execution_count": 4,
   "metadata": {},
   "outputs": [
    {
     "name": "stdout",
     "output_type": "stream",
     "text": [
      "85\n",
      "8\n"
     ]
    }
   ],
   "source": [
    "ans = []\n",
    "for i in range(9):\n",
    "    num = int(input())\n",
    "    ans.append(num)\n",
    "    if ans[i] == max(ans):\n",
    "        max_num = i+1\n",
    "print(max(ans), max_num, sep='\\n')"
   ]
  },
  {
   "cell_type": "markdown",
   "metadata": {},
   "source": [
    "# 3052번"
   ]
  },
  {
   "cell_type": "code",
   "execution_count": 6,
   "metadata": {},
   "outputs": [
    {
     "name": "stdout",
     "output_type": "stream",
     "text": [
      "6\n"
     ]
    }
   ],
   "source": [
    "ans = []\n",
    "for _ in range(10):\n",
    "    num = int(input())\n",
    "    ans.append(num%42)\n",
    "\n",
    "ans = set(ans)\n",
    "print(len(ans))"
   ]
  },
  {
   "cell_type": "markdown",
   "metadata": {},
   "source": [
    "# 1546번"
   ]
  },
  {
   "cell_type": "code",
   "execution_count": 14,
   "metadata": {},
   "outputs": [
    {
     "name": "stdout",
     "output_type": "stream",
     "text": [
      "75.0\n"
     ]
    }
   ],
   "source": [
    "N = int(input())\n",
    "scores = list(map(int, input().split()))\n",
    "# 점수/M*100\n",
    "M = max(scores)\n",
    "new_scores = []\n",
    "for score in scores:\n",
    "    new_scores.append(score /M*100)\n",
    "print(sum(new_scores)/len(new_scores))"
   ]
  },
  {
   "cell_type": "code",
   "execution_count": 13,
   "metadata": {},
   "outputs": [
    {
     "data": {
      "text/plain": [
       "[50.0, 100.0, 75.0]"
      ]
     },
     "execution_count": 13,
     "metadata": {},
     "output_type": "execute_result"
    }
   ],
   "source": [
    "new_scores"
   ]
  },
  {
   "cell_type": "markdown",
   "metadata": {},
   "source": [
    "# 8958번"
   ]
  },
  {
   "cell_type": "code",
   "execution_count": 16,
   "metadata": {},
   "outputs": [
    {
     "name": "stdout",
     "output_type": "stream",
     "text": [
      "10\n"
     ]
    }
   ],
   "source": [
    "T = int(input())\n",
    "for _ in range(T):\n",
    "    ox_list = list(input())\n",
    "    score = 0\n",
    "    sum_score = 0\n",
    "    for ox in ox_list:\n",
    "        if ox == 'O':\n",
    "            score += 1\n",
    "            sum_score += score\n",
    "        else: # O가 아니면 초기화\n",
    "            score = 0\n",
    "    print(sum_score)\n"
   ]
  },
  {
   "cell_type": "markdown",
   "metadata": {},
   "source": [
    "# 4344번"
   ]
  },
  {
   "cell_type": "code",
   "execution_count": 4,
   "metadata": {},
   "outputs": [
    {
     "name": "stdout",
     "output_type": "stream",
     "text": [
      "40.000%\n",
      "57.143%\n",
      "33.333%\n",
      "66.667%\n",
      "55.556%\n"
     ]
    }
   ],
   "source": [
    "C = int(input())\n",
    "for _ in range(C):\n",
    "    scores = list(map(int, input().split()))\n",
    "    avg = sum(scores[1:])/scores[0] # 평균\n",
    "    stu = 0 # 평균이 넘는 학생 수\n",
    "    for score in scores[1:]:\n",
    "        if score > avg:\n",
    "            stu += 1\n",
    "    ratio = stu / scores[0] * 100\n",
    "    print('%.3f%%'%(ratio))"
   ]
  }
 ],
 "metadata": {
  "kernelspec": {
   "display_name": "Python 3.9.2 64-bit",
   "language": "python",
   "name": "python3"
  },
  "language_info": {
   "codemirror_mode": {
    "name": "ipython",
    "version": 3
   },
   "file_extension": ".py",
   "mimetype": "text/x-python",
   "name": "python",
   "nbconvert_exporter": "python",
   "pygments_lexer": "ipython3",
   "version": "3.9.2"
  },
  "orig_nbformat": 4,
  "vscode": {
   "interpreter": {
    "hash": "75c616fb5c42586eb482b2748f013853c707ac3fc34ec553aa0fa7d7b12dc6b7"
   }
  }
 },
 "nbformat": 4,
 "nbformat_minor": 2
}
