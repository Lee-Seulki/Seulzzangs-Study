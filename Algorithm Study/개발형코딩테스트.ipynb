{
 "cells": [
  {
   "cell_type": "code",
   "execution_count": 1,
   "metadata": {},
   "outputs": [
    {
     "name": "stdout",
     "output_type": "stream",
     "text": [
      "{\n",
      "    \"id\": \"gildong\",\n",
      "    \"password\": \"1!2@3#4$\",\n",
      "    \"age\": 30,\n",
      "    \"hobby\": [\n",
      "        \"football\",\n",
      "        \"programming\"\n",
      "    ]\n",
      "}\n"
     ]
    }
   ],
   "source": [
    "# JSON 객체 사용 예제\n",
    "import json\n",
    "\n",
    "user = {\n",
    "    'id' : 'gildong',\n",
    "    'password' : \"1!2@3#4$\",\n",
    "    'age' : 30,\n",
    "    'hobby' : ['football', 'programming']\n",
    "}\n",
    "\n",
    "# python 객체를 JSON문자열로 변환(dumps())\n",
    "# indent : 들여쓰기(공백 몇번?)\n",
    "json_data = json.dumps(user, indent=4)\n",
    "print(json_data)"
   ]
  },
  {
   "cell_type": "code",
   "execution_count": 3,
   "metadata": {},
   "outputs": [],
   "source": [
    "# JSON 객체 파일 저장 예제\n",
    "import json\n",
    "\n",
    "user = {\n",
    "    'id' : 'gildong',\n",
    "    'password' : \"1!2@3#4$\",\n",
    "    'age' : 30,\n",
    "    'hobby' : ['football', 'programming']\n",
    "}\n",
    "\n",
    "with open('user.json', 'w', encoding='utf-8') as file:\n",
    "    # python 객체를 JSON파일에 저장하기\n",
    "    json_data = json.dump(user, file, indent=4)"
   ]
  },
  {
   "cell_type": "code",
   "execution_count": 2,
   "metadata": {},
   "outputs": [
    {
     "name": "stdout",
     "output_type": "stream",
     "text": [
      "['Leanne Graham', 'Ervin Howell', 'Clementine Bauch', 'Patricia Lebsack', 'Chelsey Dietrich', 'Mrs. Dennis Schulist', 'Kurtis Weissnat', 'Nicholas Runolfsdottir V', 'Glenna Reichert', 'Clementina DuBuque']\n"
     ]
    }
   ],
   "source": [
    "# https://jsonplaceholder.typicode.com/\n",
    "import requests\n",
    "target = 'https://jsonplaceholder.typicode.com/users'\n",
    "response = requests.get(url=target)\n",
    "\n",
    "data = response.json()\n",
    "name_list = []\n",
    "for user in data:\n",
    "    name_list.append(user['name'])\n",
    "print(name_list)"
   ]
  }
 ],
 "metadata": {
  "kernelspec": {
   "display_name": "Python 3.10.4 ('study')",
   "language": "python",
   "name": "python3"
  },
  "language_info": {
   "codemirror_mode": {
    "name": "ipython",
    "version": 3
   },
   "file_extension": ".py",
   "mimetype": "text/x-python",
   "name": "python",
   "nbconvert_exporter": "python",
   "pygments_lexer": "ipython3",
   "version": "3.10.4"
  },
  "orig_nbformat": 4,
  "vscode": {
   "interpreter": {
    "hash": "265738b0ff0e8c454188584953ec5ef2c5c2260cd2f18afc6053d979e67323cd"
   }
  }
 },
 "nbformat": 4,
 "nbformat_minor": 2
}
