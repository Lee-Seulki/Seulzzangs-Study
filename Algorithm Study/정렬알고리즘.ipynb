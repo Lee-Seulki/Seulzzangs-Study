{
 "cells": [
  {
   "cell_type": "markdown",
   "metadata": {},
   "source": [
    "## 선택 정렬\n",
    "- 처리되지 않은 데이터 중에서 가장 작은 데이터를 선택해 맨 앞에 있는 데이터와 바꾸는 것을 반복"
   ]
  },
  {
   "cell_type": "code",
   "execution_count": 1,
   "metadata": {},
   "outputs": [
    {
     "name": "stdout",
     "output_type": "stream",
     "text": [
      "[0, 1, 2, 3, 4, 5, 6, 7, 8, 9]\n"
     ]
    }
   ],
   "source": [
    "# 이중 반복문을 이용해서 나타낼 수 있음\n",
    "array = [7, 5, 9, 0, 3, 1, 6, 2, 4, 8]\n",
    "\n",
    "for i in range(len(array)): # 가장 앞쪽 원소의 위치\n",
    "    min_index = i # 가장 작은 원소의 인덱스를 고를 수 있게 함 \n",
    "    for j in range(i+1, len(array)):\n",
    "        if array[min_index] > array[j]: # 현재 원소보다 더 작은 원소가 있다면\n",
    "            min_index = j # 그 인덱스의 값이 minindex로 바뀔 수 있게 하여\n",
    "    array[i], array[min_index] = array[min_index], array[i] # 스와프\n",
    "\n",
    "print(array)"
   ]
  },
  {
   "cell_type": "markdown",
   "metadata": {},
   "source": [
    "## 삽입 정렬\n",
    "- 처리되지 않은 데이터를 하나씩 골라 적절한 위치에 삽입\n",
    "- 선택 정렬에 비해 구현 난이도가 높은 편이지만, 일반적으로 더 효율적으로 동작"
   ]
  },
  {
   "cell_type": "code",
   "execution_count": 2,
   "metadata": {},
   "outputs": [
    {
     "name": "stdout",
     "output_type": "stream",
     "text": [
      "[0, 1, 2, 3, 4, 5, 6, 7, 8, 9]\n"
     ]
    }
   ],
   "source": [
    "# 첫번쩨 데이터 7은 그 자체로 정렬이 되어있다고 판단하고 두번째 데이터인 5가 어떤 위치로 들어갈지 판단\n",
    "array = [7, 5, 9, 0, 3, 1, 6, 2, 4, 8]\n",
    "\n",
    "for i in range(1, len(array)): # 두번째 원소부터 시작해서 1부터 시작, 왼쪽으로 이동해 나감\n",
    "    for j in range(i, 0, -1): # 인덱스 i부터 1까지 1씩 감소하며 반복하는 문법\n",
    "        if array[j] < array[j-1]: # 한 칸씩 왼쪽으로 이동\n",
    "            array[j], array[j-1] = array[j-1], array[j]\n",
    "        else: # 자기보다 작은 데이터를 만나면 그 위치에서 멈춤\n",
    "            break\n",
    "print(array)"
   ]
  },
  {
   "cell_type": "markdown",
   "metadata": {},
   "source": [
    "## 퀵 정렬\n",
    "- 기준 데이터를 설정하고 그 기준보다 큰 데이터와 작은 데이터의 위치를 바꾸는 방법\n",
    "- 일반적인 상황에서 가장 많이 사용되는 정렬 알고리즘 중 하나\n",
    "- 병합 정렬과 더불어 대부분의 프로그래밍 언어의 정렬 라이브러리의 근간이 되는 알고리즘\n",
    "- 가장 기본적인 퀵 정렬은 첫번째 데이터를 기준 데이터(Pivot)로 설정"
   ]
  },
  {
   "cell_type": "code",
   "execution_count": 6,
   "metadata": {},
   "outputs": [
    {
     "ename": "IndexError",
     "evalue": "list index out of range",
     "output_type": "error",
     "traceback": [
      "\u001b[1;31m---------------------------------------------------------------------------\u001b[0m",
      "\u001b[1;31mIndexError\u001b[0m                                Traceback (most recent call last)",
      "\u001b[1;32mc:\\Users\\doobe\\OneDrive\\바탕 화면\\workspace\\AlgorithmStudy\\정렬알고리즘.ipynb 셀 6\u001b[0m in \u001b[0;36m<cell line: 32>\u001b[1;34m()\u001b[0m\n\u001b[0;32m     <a href='vscode-notebook-cell:/c%3A/Users/doobe/OneDrive/%EB%B0%94%ED%83%95%20%ED%99%94%EB%A9%B4/workspace/AlgorithmStudy/%EC%A0%95%EB%A0%AC%EC%95%8C%EA%B3%A0%EB%A6%AC%EC%A6%98.ipynb#X16sZmlsZQ%3D%3D?line=28'>29</a>\u001b[0m     quick_sort(array, start, right\u001b[39m-\u001b[39m\u001b[39m1\u001b[39m)\n\u001b[0;32m     <a href='vscode-notebook-cell:/c%3A/Users/doobe/OneDrive/%EB%B0%94%ED%83%95%20%ED%99%94%EB%A9%B4/workspace/AlgorithmStudy/%EC%A0%95%EB%A0%AC%EC%95%8C%EA%B3%A0%EB%A6%AC%EC%A6%98.ipynb#X16sZmlsZQ%3D%3D?line=29'>30</a>\u001b[0m     quick_sort(array, right\u001b[39m+\u001b[39m\u001b[39m1\u001b[39m, end)\n\u001b[1;32m---> <a href='vscode-notebook-cell:/c%3A/Users/doobe/OneDrive/%EB%B0%94%ED%83%95%20%ED%99%94%EB%A9%B4/workspace/AlgorithmStudy/%EC%A0%95%EB%A0%AC%EC%95%8C%EA%B3%A0%EB%A6%AC%EC%A6%98.ipynb#X16sZmlsZQ%3D%3D?line=31'>32</a>\u001b[0m quick_sort(array, \u001b[39m0\u001b[39;49m, \u001b[39mlen\u001b[39;49m(array)\u001b[39m-\u001b[39;49m\u001b[39m1\u001b[39;49m)\n\u001b[0;32m     <a href='vscode-notebook-cell:/c%3A/Users/doobe/OneDrive/%EB%B0%94%ED%83%95%20%ED%99%94%EB%A9%B4/workspace/AlgorithmStudy/%EC%A0%95%EB%A0%AC%EC%95%8C%EA%B3%A0%EB%A6%AC%EC%A6%98.ipynb#X16sZmlsZQ%3D%3D?line=32'>33</a>\u001b[0m \u001b[39mprint\u001b[39m(array)\n",
      "\u001b[1;32mc:\\Users\\doobe\\OneDrive\\바탕 화면\\workspace\\AlgorithmStudy\\정렬알고리즘.ipynb 셀 6\u001b[0m in \u001b[0;36mquick_sort\u001b[1;34m(array, start, end)\u001b[0m\n\u001b[0;32m     <a href='vscode-notebook-cell:/c%3A/Users/doobe/OneDrive/%EB%B0%94%ED%83%95%20%ED%99%94%EB%A9%B4/workspace/AlgorithmStudy/%EC%A0%95%EB%A0%AC%EC%95%8C%EA%B3%A0%EB%A6%AC%EC%A6%98.ipynb#X16sZmlsZQ%3D%3D?line=18'>19</a>\u001b[0m     left \u001b[39m+\u001b[39m\u001b[39m=\u001b[39m \u001b[39m1\u001b[39m\n\u001b[0;32m     <a href='vscode-notebook-cell:/c%3A/Users/doobe/OneDrive/%EB%B0%94%ED%83%95%20%ED%99%94%EB%A9%B4/workspace/AlgorithmStudy/%EC%A0%95%EB%A0%AC%EC%95%8C%EA%B3%A0%EB%A6%AC%EC%A6%98.ipynb#X16sZmlsZQ%3D%3D?line=19'>20</a>\u001b[0m \u001b[39m# 피벗보다 작은 데이터를 찾을 때 까지 right값 증가\u001b[39;00m\n\u001b[1;32m---> <a href='vscode-notebook-cell:/c%3A/Users/doobe/OneDrive/%EB%B0%94%ED%83%95%20%ED%99%94%EB%A9%B4/workspace/AlgorithmStudy/%EC%A0%95%EB%A0%AC%EC%95%8C%EA%B3%A0%EB%A6%AC%EC%A6%98.ipynb#X16sZmlsZQ%3D%3D?line=20'>21</a>\u001b[0m \u001b[39mwhile\u001b[39;00m (right \u001b[39m>\u001b[39m\u001b[39m=\u001b[39m start \u001b[39mand\u001b[39;00m array[right] \u001b[39m>\u001b[39m\u001b[39m=\u001b[39m array[pivot]):\n\u001b[0;32m     <a href='vscode-notebook-cell:/c%3A/Users/doobe/OneDrive/%EB%B0%94%ED%83%95%20%ED%99%94%EB%A9%B4/workspace/AlgorithmStudy/%EC%A0%95%EB%A0%AC%EC%95%8C%EA%B3%A0%EB%A6%AC%EC%A6%98.ipynb#X16sZmlsZQ%3D%3D?line=21'>22</a>\u001b[0m     right \u001b[39m+\u001b[39m\u001b[39m=\u001b[39m \u001b[39m1\u001b[39m\n\u001b[0;32m     <a href='vscode-notebook-cell:/c%3A/Users/doobe/OneDrive/%EB%B0%94%ED%83%95%20%ED%99%94%EB%A9%B4/workspace/AlgorithmStudy/%EC%A0%95%EB%A0%AC%EC%95%8C%EA%B3%A0%EB%A6%AC%EC%A6%98.ipynb#X16sZmlsZQ%3D%3D?line=22'>23</a>\u001b[0m \u001b[39mif\u001b[39;00m (left \u001b[39m>\u001b[39m right): \u001b[39m# 위치가 엇갈렸다면 작은 데이터와 피벗을 교체\u001b[39;00m\n",
      "\u001b[1;31mIndexError\u001b[0m: list index out of range"
     ]
    }
   ],
   "source": [
    "# 현재 피벗의 값은 5이므로 왼쪽에서부터 5보다 큰 데이터를 선택하므로 7이 선택 되고, 오른쪽에서 부터 5보다 작은 데이터를 선택하므로 4가 선택됨. 이 두 데이터의 위치를 서로 변경함\n",
    "# 위치가 엇갈리는 경우 피벗과 작은 데이터의 위치를 서로 변경\n",
    "# 이제 5 왼쪽에 있는 데이터는 모두 5 보다 작고, 오른쪽에 있는 데이터는 5보다 크다는 특징이 있음(분할)\n",
    "# 왼쪽, 오른쪽 데이터에 대해서 마찬가지로 정렬을 수행함\n",
    "# 이러한 과정을 재귀적으로 수행함\n",
    "\n",
    "array = [5, 7, 9, 0, 3, 1, 6, 2, 4, 8]\n",
    "\n",
    "def quick_sort(array, start, end):\n",
    "    if start >= end: # 원소가 한개인 경우 종료\n",
    "        return\n",
    "    pivot = start # 피벗은 첫번째 원소로 설정\n",
    "    left = start + 1 # 피벗 기준 가장 왼쪽\n",
    "    right = end # 가장 오른쪽\n",
    "    while (left <= right):\n",
    "        # left인덱스번호에 있는 값보다 right인덱스에 있는 원소가 더 작다면 엇갈린 것이기 때문에 그때까지 반복문\n",
    "        # 피벗보다 큰 데이터를 찾을 때 까지 반복\n",
    "        while(left <= end and array[left] <= array[pivot]):\n",
    "            left += 1\n",
    "        # 피벗보다 작은 데이터를 찾을 때 까지 right값 증가\n",
    "        while (right > start and array[right] >= array[pivot]):\n",
    "            right += 1\n",
    "        if (left > right): # 위치가 엇갈렸다면 작은 데이터와 피벗을 교체\n",
    "            array[right], array[pivot] = array[pivot], array[right]\n",
    "        else: # 엇갈리지 않았다면 작은 데이터와 큰 데이터를 교체\n",
    "            array[left], array[right] = array[right], array[left]\n",
    "    \n",
    "    # 분할 이후 왼쪽 부분과 오른쪽 부분에서 각각 정렬 수행\n",
    "    quick_sort(array, start, right-1)\n",
    "    quick_sort(array, right+1, end)\n",
    "\n",
    "quick_sort(array, 0, len(array)-1)\n",
    "print(array)"
   ]
  },
  {
   "cell_type": "code",
   "execution_count": 7,
   "metadata": {},
   "outputs": [
    {
     "name": "stdout",
     "output_type": "stream",
     "text": [
      "[0, 1, 2, 3, 4, 5, 6, 7, 8, 9]\n"
     ]
    }
   ],
   "source": [
    "array = [5, 7, 9, 0, 3, 1, 6, 2, 4, 8]\n",
    "def quick_sort(array):\n",
    "    if len(array) <= 1:\n",
    "        return array\n",
    "    pivot = array[0]\n",
    "    tail = array[1:] # 피벗을 제외한 리스트\n",
    "\n",
    "    left_side = [x for x in tail if x <= pivot] # 분할된 왼쪽 부분\n",
    "    right_side = [x for x in tail if x > pivot] # 분할된 오른쪽 부분\n",
    "\n",
    "    # 분할 이후 왼쪽 부분과 오른쪽 부분에서 각각 정렬 수행하고, 전체 리스트 반환\n",
    "    return quick_sort(left_side) + [pivot] + quick_sort(right_side)\n",
    "\n",
    "print(quick_sort(array))"
   ]
  },
  {
   "cell_type": "markdown",
   "metadata": {},
   "source": [
    "## 계수 정렬\n",
    "- 특정한 조건이 부합할때만 사용할 수 있지만 매우 빠르게 동작하는 정렬 알고리즘\n",
    "- 계수 정렬은 데이터의 크기 범위가 제한되어 정수 형태로 표현할 수 있을 때 사용 가능\n",
    "- 결과를 확인할 때는 리스트의 첫번째 데이터부터 하나씩 그 값 만큼 반복하여 인덱스 출력\n",
    "- 동일한 값을 가지는 데이터가 여러개 등장할 때 효과적"
   ]
  },
  {
   "cell_type": "code",
   "execution_count": 8,
   "metadata": {},
   "outputs": [
    {
     "name": "stdout",
     "output_type": "stream",
     "text": [
      "0 0 1 1 2 2 3 4 5 5 6 7 8 9 9 "
     ]
    }
   ],
   "source": [
    "# 모든 원소의 값이 0보다 크거나 같다고 가정\n",
    "array = [7, 5, 9, 0, 3, 1, 6, 2, 9, 1, 4, 8, 0, 5, 2]\n",
    "# 모든 범위를 포함하는 리스트 선언(모든 값은 0으로 초기화)\n",
    "count = [0] * (max(array)+1)\n",
    "\n",
    "for i in range(len(array)):\n",
    "    count[array[i]] += 1 # 각 데이터에 해당하는 인덱스의 값 증가\n",
    "\n",
    "for i in range(len(count)): # 리스트에 기록된 정렬 정보 확인\n",
    "    for j in range(count[i]):\n",
    "        print(i, end=' ') # 띄어쓰기를 구분으로 등장한 횟수만큼 인덱스 출력"
   ]
  },
  {
   "cell_type": "markdown",
   "metadata": {},
   "source": [
    "## <문제> 두 배열의 원소 교체\n",
    "- 배열 A, B\n",
    "- K번의 바꿔치기를 수행할 수 있는데 A와 B의 원소를 바꾸는 것\n",
    "- 배열 A의 모든 원소의 합이 최대가 되도록 하는 것"
   ]
  },
  {
   "cell_type": "code",
   "execution_count": 14,
   "metadata": {},
   "outputs": [
    {
     "name": "stdout",
     "output_type": "stream",
     "text": [
      "21\n"
     ]
    }
   ],
   "source": [
    "# 핵심 아이디어: 매번 배열 A의 가장 작은 원소를 골라서 배열 B의 가장 큰 원소와 교체\n",
    "# A:오름차순, B:내림차순\n",
    "# 두 배열의 원소를 첫번째 인덱스부터 차례로 확인하면서 A의 원소가 B의 원소보다 작을 때에만 교체를 수행\n",
    "# 최악의 경우 NlogN을 보장하는 정렬 알고리즘을 이용해야함\n",
    "\n",
    "n, k = map(int, input().split())\n",
    "a = list(map(int, input().split()))\n",
    "b = list(map(int, input().split()))\n",
    "\n",
    "a.sort() # 오름차순 정렬\n",
    "b.sort(reverse = True) # 내림차순 정렬\n",
    "\n",
    "for i in range(k):\n",
    "    # A의 원소가 B의 원소보다 작은 경우\n",
    "    if a[i] < b[i]:\n",
    "        a[i], b[i] = b[i], a[i] # 교체\n",
    "    else: # A의 원소가 B의 원소보다 크거나 같을 때, 반복문 탈출\n",
    "        break\n",
    "\n",
    "print(sum(a))"
   ]
  }
 ],
 "metadata": {
  "kernelspec": {
   "display_name": "Python 3.10.4 ('study')",
   "language": "python",
   "name": "python3"
  },
  "language_info": {
   "codemirror_mode": {
    "name": "ipython",
    "version": 3
   },
   "file_extension": ".py",
   "mimetype": "text/x-python",
   "name": "python",
   "nbconvert_exporter": "python",
   "pygments_lexer": "ipython3",
   "version": "3.10.4"
  },
  "orig_nbformat": 4,
  "vscode": {
   "interpreter": {
    "hash": "2cfda4edd5fd29a80a355332d4a199ceff4e11192a2c7367aec533c8ff01e680"
   }
  }
 },
 "nbformat": 4,
 "nbformat_minor": 2
}
