{
 "cells": [
  {
   "cell_type": "markdown",
   "metadata": {},
   "source": [
    "# 다이나믹 프로그래밍\n",
    "- 메모리를 적절히 사용하여 수행 시간 효율성을 비약적으로 향상시키는 방법\n",
    "- 이미 계산된 결과는 별도의 메모리 영역에 저장하여 다시 계산하지 않도록 한다.\n",
    "- 일반적으로 두가지 방식 *탑다운과 보텀업* 으로 구성된다."
   ]
  },
  {
   "cell_type": "markdown",
   "metadata": {},
   "source": [
    "# 다이나믹 프로그래밍의 조건\n",
    "### 1. 최적 부분 구조\n",
    "- 큰 문제를 작은 문제로 나눌 수 있으며 작은 문제의 답을 모아서 큰 문제를 해결할 수 있다.\n",
    "### 2. 중복되는 부분 문제\n",
    "- 동일한 작은 문제를 반복적으로 해결해야 한다."
   ]
  },
  {
   "cell_type": "code",
   "execution_count": 3,
   "metadata": {},
   "outputs": [
    {
     "name": "stdout",
     "output_type": "stream",
     "text": [
      "3\n"
     ]
    }
   ],
   "source": [
    "# 피보나치 함수를 재귀함수로 구현\n",
    "def fibo(x):\n",
    "    if x == 1 or x == 2:\n",
    "        return 1\n",
    "    return fibo(x-1) + fibo(x-2)\n",
    "\n",
    "print(fibo(4))"
   ]
  },
  {
   "cell_type": "markdown",
   "metadata": {},
   "source": [
    "# 피보나치 수열의 시간 복잡도 분석\n",
    "- 단순 재귀 함수로 피보나치 수열을 해결하면 지수 시간 복잡도를 가지게 된다.\n",
    "- f(2)가 여러번 호출 되는 것을 확인할 수 있다. **중복되는 부분 문제**\n",
    "- 메모리에 f(2)에 대한 정보를 저장해 둔다면 중복되는 부분을 해결할 수 있다!"
   ]
  },
  {
   "cell_type": "markdown",
   "metadata": {},
   "source": [
    "## 피보나치 수열의 효율적인 해법: 다이나믹 프로그래밍\n",
    "- 다이나믹 프로그래밍의 사용 조건을 만족하는지 확인한다. \n",
    "> 1. 최적 부분 구조: 큰 문제를 작은 문제로 나눌 수 있다.\n",
    "> 2. 중복되는 부분 문제: 동일한 작은 문제를 반복적으로 해결한다."
   ]
  },
  {
   "cell_type": "markdown",
   "metadata": {},
   "source": [
    "# 메모이제이션(Memoization) - 탑다운\n",
    "- 한 번 계산한 결과를 메모리 공간에 메모하는 기법\n",
    "> * 같은 문제를 다시 호출하면 메모했던 결과를 그대로 가져온다.\n",
    "> * 별도의 테이블, 배열에 값을 기록해 놓는다는 점에서 캐싱(Caching)이라고도 한다."
   ]
  },
  {
   "cell_type": "markdown",
   "metadata": {},
   "source": [
    "# 탑다운 VS 보텀업\n",
    "- 탑다운(메모이제이션)은 하향식이라고도 하며 보텀업은 상향식이라고 한다.\n",
    "- 다이나믹 프로그래밍의 전형적인 형태는 *보텀업* 방식이다.\n",
    "> - 결과 저장용 리스트는 **DP테이블**이라고 부른다.\n",
    "- 엄밀히 말하면 메모이제이션은 이전에 계산된 결과를 일시적으로 기록해 놓는 넓은 개념을 의미\n",
    "> - 따라서 메모이제이션은 다이나믹 프로그래밍에 국한된 개념은 아님.\n",
    "> - 한번 계산된 결과를 담아 놓기만 하고 다이나믹 프로그래밍을 위해 활용하지 않을 수도 있음."
   ]
  },
  {
   "cell_type": "code",
   "execution_count": 4,
   "metadata": {},
   "outputs": [
    {
     "name": "stdout",
     "output_type": "stream",
     "text": [
      "218922995834555169026\n"
     ]
    }
   ],
   "source": [
    "# 다이나믹 프로그래밍을 이용한 피보나치 수열 소스코드\n",
    "\n",
    "# 한번 계산된 결과를 메모이제이션하기 위한 리스트 초기화\n",
    "d = [0] * 100\n",
    "\n",
    "# 탑다운 다이나믹 프로그래밍\n",
    "def fibo(x):\n",
    "    if x == 1 or x == 2:\n",
    "        return 1\n",
    "    # 이미 계산한 적 있으면 그대로 반환\n",
    "    if d[x] != 0:\n",
    "        return d[x]\n",
    "    # 아직 계산하지 않은 문제라면 점화식에 따라서 피보나치 결과 반환\n",
    "    d[x] = fibo(x-1)+fibo(x-2)\n",
    "    return d[x]\n",
    "\n",
    "print(fibo(99))"
   ]
  },
  {
   "cell_type": "code",
   "execution_count": 6,
   "metadata": {},
   "outputs": [
    {
     "name": "stdout",
     "output_type": "stream",
     "text": [
      "218922995834555169026\n"
     ]
    }
   ],
   "source": [
    "# 보텀업 다이나믹 프로그래밍\n",
    "\n",
    "d = [0] * 100\n",
    "\n",
    "# 보텀업에서는 재귀함수가 아니라 반복문이 사용되기 때문에 종료조건 대신 시작항에 대한 답들을 초기화함\n",
    "d[1] = 1\n",
    "d[2] = 1\n",
    "n = 99\n",
    "\n",
    "# 반복문으로 구현\n",
    "for i in range(3, n+1):\n",
    "    d[i] = d[i-1]+d[i-2]\n",
    "\n",
    "print(d[n])"
   ]
  },
  {
   "cell_type": "markdown",
   "metadata": {},
   "source": [
    "# 다이나믹 프로그래밍 VS 분할 정복\n",
    "- 다이나믹 프로그래밍과 분할 정복은 모두 최적 부분 구조를 가질 때 사용할 수 있다.\n",
    "> - 큰 문제를 작은 문제로 나눌 수 있으며 작은 문제의 답을 모아서 큰 문제를 해결할 수 있는 상황\n",
    "- 다이나믹 프로그래밍과 분할 정복의 차이점은 *부분 문제의 중복* 이다.\n",
    "> - 다이나믹 프로그래밍 문제에서는 각 부분 문제들이 서로 영향을 미치며 부분 문제가 중복된다.\n",
    "> - 분할 정복 문제에서는 동일한 부분 문제가 반복적으로 계산되지 않는다."
   ]
  },
  {
   "cell_type": "markdown",
   "metadata": {},
   "source": [
    "# 다이나믹 프로그래밍 문제에 접근하는 방법\n",
    "- 주어진 문제가 **다이나믹 프로그래밍 유형임을 파악**하는 것이 중요.\n",
    "- 그리디, 구현, 완전탐색 등의 아이디어로 문제를 해결할 수 있는지 검토\n",
    "> - 다른 알고리즘으로 풀이 방법이 떠오르지 않는다면 다이나믹 프로그래밍을 고려\n",
    "- 재귀함수로 비효율적인 완전 탐색 프로그램을 작성한 뒤에(탑다운) 작은 문제에서 구한 답이 큰 문제에서 그대로 사용될 수 있으면, 코드를 개선하는 방법을 사용할 수 있다.\n",
    "- 일반적인 코딩 테스트 수준에서는 기본 유형의 다이나믹 프로그래밍 문제가 출제되는 경우가 많다."
   ]
  },
  {
   "cell_type": "markdown",
   "metadata": {},
   "source": [
    "# <문제> 개미 전사\n",
    "- 개미 전사는 부족한 식량을 충당하고자 메뚜기 마을의 식량 창고를 몰래 공격하려고 합니다. 메뚜기 마을에는 여러개의 식량창고가 있는데 식량창고는 일직선으로 이어져 있습니다.\n",
    "- 각 식량 창고에는 정해진 수의 식량을 저장하고 있으며 개미 전사는 식량창고를 선택적으로 약탈하여 식량을 빼앗을 예정입니다. 이때 메뚜기 정찰병들은 일직선상에 존재하는 식량창고중에서 서로 인접한 식량창고가 공격받으면 바로 알아챌 수 있습니다.\n",
    "- 따라서 개미 전사가 정찰병에게 들키지 않고 식량창고를 약탈하기 위해서는 최소한 한 칸 이상 떨어진 식량창고를 약탈해야 합니다.\n",
    "- 개미전사는 최대한 많은 식량을 얻기를 원합니다.\n",
    "- 개미전사를 위해 식량창고 N개에 대한 정보가 주어졌을 때 얻을 수 있는 식량의 최댓값을 구하는 프로그래밍을 작성하세요."
   ]
  },
  {
   "cell_type": "code",
   "execution_count": 7,
   "metadata": {},
   "outputs": [
    {
     "name": "stdout",
     "output_type": "stream",
     "text": [
      "7\n"
     ]
    }
   ],
   "source": [
    "# a[i] = i번째 식량창고까지의 최적의 해(얻을 수 있는 식량의 최댓값)\n",
    "# k[i] = i번째 식량창고에 있는 식량의 양\n",
    "# a[i] = max(a[1-1],a[i-2]+k[i])\n",
    "\n",
    "n = int(input())\n",
    "array = list(map(int, input().split()))\n",
    "\n",
    "d = [0] * 100\n",
    "\n",
    "# 창고가 1개일 경우 그 창고에 있는 값이 답\n",
    "d[0] = array[0]\n",
    "# 창고가 2개일 경우 둘 중 큰 값이 답\n",
    "d[1] = max(array[0], array[1])\n",
    "for i in range(2, n):\n",
    "    d[i] = max(d[i-1], d[i-2]+array[i])\n",
    "\n",
    "print(d[n-1])"
   ]
  },
  {
   "cell_type": "markdown",
   "metadata": {},
   "source": [
    "# <문제> 1로 만들기\n",
    "- 정수 x가 주어졌을 때, 정수 x에 사용할 수 있는 연산은 다음과 같이 **4가지**입니다.\n",
    "> 1. x가 5로 나누어 떨어지면, 5로 나눕니다.\n",
    "> 2. x가 3으로 나누어 떨어지면, 3으로 나눕니다.\n",
    "> 3. x가 2로 나누어 떨어지면, 2로 나눕니다.\n",
    "> 4. x에서 1을 뺍니다.\n",
    "- 정수 x가 주어졌을 때, 연산 4개를 적절히 사용해서 값을 1로 만들고자 합니다. 연산을 사용하는 횟수의 최솟값을 출력하세요. 예를 들어서 정수가 26이면 다음과 같이 계산해서 3번의 연산이 최솟값 입니다.\n",
    "> - 26 -> 25 -> 5 -> 1"
   ]
  },
  {
   "cell_type": "code",
   "execution_count": 8,
   "metadata": {},
   "outputs": [
    {
     "name": "stdout",
     "output_type": "stream",
     "text": [
      "3\n"
     ]
    }
   ],
   "source": [
    "# 보텀업 프로그래밍\n",
    "x = int(input())\n",
    "\n",
    "d = [0] * 30001\n",
    "\n",
    "for i in range (2, x+1):\n",
    "    # 현재 수에서 1을 빼는 경우\n",
    "    d[i] = d[i-1]+1\n",
    "    # 2로 나누어 떨어지는 경우\n",
    "    if i%2 == 0:\n",
    "        d[i] = min(d[i], d[i//2]+1)\n",
    "    # 3로 나누어 떨어지는 경우\n",
    "    if i%3 == 0:\n",
    "        d[i] = min(d[i], d[i//3]+1)\n",
    "    # 5로 나누어 떨어지는 경우\n",
    "    if i%5 == 0:\n",
    "        d[i] = min(d[i], d[i//5]+1)\n",
    "\n",
    "print(d[x])"
   ]
  },
  {
   "cell_type": "markdown",
   "metadata": {},
   "source": [
    "# <문제> 효율적인 화폐 구성\n",
    "- N가지 종류의 화폐가 있습니다. 이 화폐들의 개수를 최소한으로 이용해서 그 가치의 합이 M원이 되도록 하려고 합니다. 이때 각 종류의 화폐는 몇개라도 사용할 수 있습니다.\n",
    "- 예를 들어 2원, 3원 단위의 화폐가 있을 때는 15원을 만들기 위해 3원을 5개 사용하는 것이 가장 최소한의 화폐 개수입니다.\n",
    "- M원을 만들기 위한 최소한의 화폐 개수를 출력하는 프로그램을 작성하세요."
   ]
  },
  {
   "cell_type": "code",
   "execution_count": 10,
   "metadata": {},
   "outputs": [
    {
     "name": "stdout",
     "output_type": "stream",
     "text": [
      "5\n"
     ]
    }
   ],
   "source": [
    "# 첫째 줄에는 최소 화폐 개수를 출력한다, 불가능할때는 -1을 출력한다.\n",
    "n, m = map(int, input().split())\n",
    "array = []\n",
    "for i in range(n):\n",
    "    array.append(int(input()))\n",
    "\n",
    "d = [10001] * (m+1)\n",
    "d[0] = 0\n",
    "# 보텀업 프로그래밍\n",
    "for i in range(n):\n",
    "    for j in range(array[i], m+1):\n",
    "        if d[j-array[i]] != 10001: # (i-k)원을 만드는 방법이 존재하는 경우\n",
    "            d[j] = min(d[j], d[j-array[i]]+1)\n",
    "\n",
    "# 계산된 결과 출력\n",
    "if d[m] == 10001: # 최종적으로 M원을 만드는 방법이 없는 경우\n",
    "    print(-1)\n",
    "else:\n",
    "    print(d[m])"
   ]
  },
  {
   "cell_type": "markdown",
   "metadata": {},
   "source": [
    "# <문제> 금광\n",
    "- n*m크기의 금광이 있습니다. 금광은 1x1크기의 칸으로 나누어져 있으며, 각 칸은 특정한 크기의 금이 들어있습니다.\n",
    "- 채굴자는 첫번째 열부터 출발하여 금을 캐기 시작합니다. 맨 처음에는 첫번째 열의 어느 행에서든 출발할 수 있습니다. 이후에 m-1번에 걸쳐서 매번 오른쪽 위, 오른쪽, 오른쪽 아래 3가지 중 하나의 위치로 이동해야 합니다. 결과적으로 채굴자가 얻을 수 있는 금의 최대 크기를 출력하는 프로그램을 작성하세요."
   ]
  },
  {
   "cell_type": "code",
   "execution_count": 11,
   "metadata": {},
   "outputs": [
    {
     "ename": "ValueError",
     "evalue": "invalid literal for int() with base 10: ''",
     "output_type": "error",
     "traceback": [
      "\u001b[1;31m---------------------------------------------------------------------------\u001b[0m",
      "\u001b[1;31mValueError\u001b[0m                                Traceback (most recent call last)",
      "Cell \u001b[1;32mIn [11], line 8\u001b[0m\n\u001b[0;32m      1\u001b[0m \u001b[38;5;66;03m# 왼쪽 위에서 오는 경우, 왼쪽 아레에서 오는 경우, 왼쪽에서 오는 경우 \u001b[39;00m\n\u001b[0;32m      2\u001b[0m \u001b[38;5;66;03m# 세가지 중에서 가장 많은 금을 가지고 있는 경우를 테이블에 갱신해주어 문제를 해결한다.\u001b[39;00m\n\u001b[0;32m      3\u001b[0m \n\u001b[0;32m      4\u001b[0m \u001b[38;5;66;03m# array[i][j]= i행 j열에 존재하는 금의 양\u001b[39;00m\n\u001b[0;32m      5\u001b[0m \u001b[38;5;66;03m# dp[i][j]= i행 j열까지 최적의 해(얻을 수 있는 금의 최댓 값)\u001b[39;00m\n\u001b[0;32m      6\u001b[0m \u001b[38;5;66;03m# dp[i][j] = array[i][j] + max(dp[i-1][j-1], dp[i][j-1], dp[i+1][i-1])\u001b[39;00m\n\u001b[1;32m----> 8\u001b[0m \u001b[38;5;28;01mfor\u001b[39;00m tc \u001b[38;5;129;01min\u001b[39;00m \u001b[38;5;28mrange\u001b[39m(\u001b[38;5;28;43mint\u001b[39;49m\u001b[43m(\u001b[49m\u001b[38;5;28;43minput\u001b[39;49m\u001b[43m(\u001b[49m\u001b[43m)\u001b[49m\u001b[43m)\u001b[49m):\n\u001b[0;32m      9\u001b[0m     n, m \u001b[38;5;241m=\u001b[39m \u001b[38;5;28mmap\u001b[39m(\u001b[38;5;28mint\u001b[39m, \u001b[38;5;28minput\u001b[39m()\u001b[38;5;241m.\u001b[39msplit())\n\u001b[0;32m     10\u001b[0m     array \u001b[38;5;241m=\u001b[39m \u001b[38;5;28mlist\u001b[39m(\u001b[38;5;28mmap\u001b[39m(\u001b[38;5;28mint\u001b[39m, \u001b[38;5;28minput\u001b[39m()\u001b[38;5;241m.\u001b[39msplit()))\n",
      "\u001b[1;31mValueError\u001b[0m: invalid literal for int() with base 10: ''"
     ]
    }
   ],
   "source": [
    "# 왼쪽 위에서 오는 경우, 왼쪽 아레에서 오는 경우, 왼쪽에서 오는 경우 \n",
    "# 세가지 중에서 가장 많은 금을 가지고 있는 경우를 테이블에 갱신해주어 문제를 해결한다.\n",
    "\n",
    "# array[i][j]= i행 j열에 존재하는 금의 양\n",
    "# dp[i][j]= i행 j열까지 최적의 해(얻을 수 있는 금의 최댓 값)\n",
    "# dp[i][j] = array[i][j] + max(dp[i-1][j-1], dp[i][j-1], dp[i+1][i-1])\n",
    "\n",
    "for tc in range(int(input())):\n",
    "    n, m = map(int, input().split())\n",
    "    array = list(map(int, input().split()))\n",
    "    dp = []\n",
    "    index = 0\n",
    "    for i in range(n):\n",
    "        dp.append(array[index:index+m])\n",
    "        index += m\n",
    "    \n",
    "    for j in range(1, m):\n",
    "        for i in range(n):\n",
    "            if i == 0: left_up = 0\n",
    "            else: left_up = dp[i-1][j-1]\n",
    "            if i == n-1: left_down = 0\n",
    "            else: left_down = dp[i+1][j-1]\n",
    "            left = dp[i][j-1]\n",
    "            dp[i][j] = dp[i][j] + max(left_up, left_down, left)\n",
    "    result = 0\n",
    "    for i in range(n):\n",
    "        result = max(result, dp[i][m-1])\n",
    "    print(result)"
   ]
  }
 ],
 "metadata": {
  "kernelspec": {
   "display_name": "Python 3.10.4 ('study')",
   "language": "python",
   "name": "python3"
  },
  "language_info": {
   "codemirror_mode": {
    "name": "ipython",
    "version": 3
   },
   "file_extension": ".py",
   "mimetype": "text/x-python",
   "name": "python",
   "nbconvert_exporter": "python",
   "pygments_lexer": "ipython3",
   "version": "3.10.4"
  },
  "orig_nbformat": 4,
  "vscode": {
   "interpreter": {
    "hash": "265738b0ff0e8c454188584953ec5ef2c5c2260cd2f18afc6053d979e67323cd"
   }
  }
 },
 "nbformat": 4,
 "nbformat_minor": 2
}
