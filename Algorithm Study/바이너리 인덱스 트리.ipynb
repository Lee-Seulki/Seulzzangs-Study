{
 "cells": [
  {
   "cell_type": "markdown",
   "metadata": {},
   "source": [
    "# 데이터 업데이트가 가능한 상황에서의 구간 합(Interval Sum) 문제\n",
    "- BOJ 구간 합 구하기 문제 https://www.acmicpc.net/problem/2042"
   ]
  },
  {
   "cell_type": "markdown",
   "metadata": {},
   "source": [
    "# 바이너리 인덱스 트리 (Binary Indexed Tree)\n",
    "- 2진법 인덱스 구조를 활용해 구간 합 문제를 효과적으로 해결해 줄 수 있는 자료구조\n",
    "    - 펜윅 트리(Fenwick Tree) 라고도 함\n",
    "- 정수에 따른 2진수 표기 (2의 보수법 사용)\n",
    "\n",
    "|정수|2진수 표기\n",
    "|----|:----\n",
    "|7|00000000 00000000 00000000 0000111\n",
    "|-7|11111111 11111111 11111111 1111001\n",
    "\n",
    "- 0이 아닌 마지막 비트를 찾는 방법\n",
    "    - 특정한 숫자 K의 0이 아닌 마지막 비트를 찾기 위해서 `K & -K`를 계산하면 됨"
   ]
  },
  {
   "cell_type": "code",
   "execution_count": 1,
   "metadata": {},
   "outputs": [
    {
     "name": "stdout",
     "output_type": "stream",
     "text": [
      "0 의 마지막 비트: 0\n",
      "1 의 마지막 비트: 1\n",
      "2 의 마지막 비트: 2\n",
      "3 의 마지막 비트: 1\n",
      "4 의 마지막 비트: 4\n",
      "5 의 마지막 비트: 1\n",
      "6 의 마지막 비트: 2\n",
      "7 의 마지막 비트: 1\n",
      "8 의 마지막 비트: 8\n"
     ]
    }
   ],
   "source": [
    "# K & -K 계산 결과 예시\n",
    "n = 8\n",
    "for i in range(n+1):\n",
    "    print(i, \"의 마지막 비트:\", (i & -i))"
   ]
  },
  {
   "cell_type": "markdown",
   "metadata": {},
   "source": [
    "# 바이너리 인덱스 트리: 트리 구조 만들기\n",
    "- **트리 구조 만들기**: 0이 아닌 마지막 비트 = 내가 저장하고 있는 값들의 개수\n",
    "- **특정 값을 변경할 때**: 0이 아닌 마지막 비트만큼 더하면서 구간들의 값을 변경\n",
    "- **1부터 N까지의 합(누적 합) 구하기**: 0이 아닌 마지막 비트만큼 빼면서 구간들의 값의 합 계산"
   ]
  },
  {
   "cell_type": "code",
   "execution_count": null,
   "metadata": {},
   "outputs": [],
   "source": [
    "import sys\n",
    "input = sys.stdin.readline\n",
    "\n",
    "# 데이터의 개수(n), 변경 횟수(m), 구간 합 계산 횟수(k)\n",
    "n, m, k = map(int, input().split())\n",
    "\n",
    "# 전체 데이터의 개수는 최대 1,000,000개\n",
    "arr = [0] * (n + 1)\n",
    "tree = [0] * (n + 1)\n",
    "\n",
    "# i번째 수까지의 누적 합을 계산하는 함수\n",
    "def prefix_sum(i):\n",
    "    result = 0\n",
    "    while i > 0:\n",
    "        result += tree[i]\n",
    "        # 0이 아닌 마지막 비트만큼 빼가면서 이동\n",
    "        i -= (i & -i)\n",
    "    return result\n",
    "\n",
    "# i번째 수를 dif만큼 더하는 함수\n",
    "def update(i, dif):\n",
    "    while i <= n:\n",
    "        tree[i] += dif\n",
    "        i += (i & -i)\n",
    "\n",
    "# start부터 end까지의 구간 합을 계산하는 함수\n",
    "def interval_sum(start, end):\n",
    "    return prefix_sum(end) - prefix_sum(start - 1)\n",
    "\n",
    "for i in range(1, n + 1):\n",
    "    x = int(input())\n",
    "    arr[i] = x\n",
    "    update(i, x)\n",
    "\n",
    "for i in range(m + k):\n",
    "    a, b, c = map(int, input().split())\n",
    "    # 업데이트(update) 연산인 경우\n",
    "    if a == 1:\n",
    "        update(b, c - arr[b]) # 바뀐 크기(dif)만큼 적용\n",
    "        arr[b] = c\n",
    "    # 구간 합(interval sum) 연산인 경우\n",
    "    else:\n",
    "        print(interval_sum(b, c))"
   ]
  }
 ],
 "metadata": {
  "kernelspec": {
   "display_name": "Python 3.9.2 64-bit",
   "language": "python",
   "name": "python3"
  },
  "language_info": {
   "codemirror_mode": {
    "name": "ipython",
    "version": 3
   },
   "file_extension": ".py",
   "mimetype": "text/x-python",
   "name": "python",
   "nbconvert_exporter": "python",
   "pygments_lexer": "ipython3",
   "version": "3.9.2"
  },
  "orig_nbformat": 4,
  "vscode": {
   "interpreter": {
    "hash": "75c616fb5c42586eb482b2748f013853c707ac3fc34ec553aa0fa7d7b12dc6b7"
   }
  }
 },
 "nbformat": 4,
 "nbformat_minor": 2
}
