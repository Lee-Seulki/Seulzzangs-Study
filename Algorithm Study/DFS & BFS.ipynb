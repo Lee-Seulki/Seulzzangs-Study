{
 "cells": [
  {
   "cell_type": "markdown",
   "metadata": {},
   "source": [
    "스택 자료구조\n",
    "- 먼저 들어 온 데이터가 나중에 나가는 선입후출의 자료구조\n",
    "- 입구와 출구가 동일한 형태로 스택을 시각화 할 수 있음\n",
    "- 연산은 삽입 & 삭제로 이루어짐"
   ]
  },
  {
   "cell_type": "code",
   "execution_count": 2,
   "metadata": {},
   "outputs": [
    {
     "name": "stdout",
     "output_type": "stream",
     "text": [
      "[1, 3, 2, 5]\n",
      "[5, 2, 3, 1]\n"
     ]
    }
   ],
   "source": [
    "# 스택 구현 예제(List 이용)\n",
    "stack = []\n",
    "\n",
    "# 삽입(5) - 삽입(2) - 삽입(3) - 삽입(7) -삭제() - 삽입(1) - 삽입(4) - 삭제()\n",
    "stack.append(5)\n",
    "stack.append(2)\n",
    "stack.append(3)\n",
    "stack.append(7)\n",
    "stack.pop()\n",
    "stack.append(1)\n",
    "stack.append(4)\n",
    "stack.pop()\n",
    "\n",
    "print(stack[::-1]) # 최상단 원소부터 출력(먼저 나가고자 하는 원소부터)\n",
    "print(stack) # 최하단 원소부터 출력\n"
   ]
  },
  {
   "cell_type": "markdown",
   "metadata": {},
   "source": [
    "큐 자료구조\n",
    "- 먼저 들어온 데이터가 먼저 나가는 선입선출\n",
    "- 큐는 입구와 출구가 모두 뚫려 있는 터널 같은 형태\n",
    "- 왼쪽에서 데이터가 들어와 오른쪽으로 나감"
   ]
  },
  {
   "cell_type": "code",
   "execution_count": 4,
   "metadata": {},
   "outputs": [
    {
     "name": "stdout",
     "output_type": "stream",
     "text": [
      "deque([3, 7, 1, 4])\n",
      "deque([4, 1, 7, 3])\n"
     ]
    }
   ],
   "source": [
    "# 큐 구현 예제(deque 라이브러리 사용)\n",
    "from collections import deque\n",
    "\n",
    "queue = deque()\n",
    "\n",
    "queue.append(5)\n",
    "queue.append(2)\n",
    "queue.append(3)\n",
    "queue.append(7)\n",
    "queue.popleft()\n",
    "queue.append(1)\n",
    "queue.append(4)\n",
    "queue.popleft()\n",
    "\n",
    "print(queue) # 먼저 들어온 순서대로 출력\n",
    "queue.reverse() # 역순으로 바꾸기\n",
    "print(queue) # 나중에 들어온 원소부터 출력"
   ]
  },
  {
   "cell_type": "markdown",
   "metadata": {},
   "source": [
    "재귀 함수\n",
    "- 자기 자신을 다시 호출하는 함수\n",
    "- DFS를 구현하고자 할 때 자주 사용되는 방법중 하나\n",
    "- 재귀 함수의 종료 조건을 반드시 명시해야 함"
   ]
  },
  {
   "cell_type": "markdown",
   "metadata": {},
   "source": [
    "최대공약수 계산(유클리드 호제법)\n",
    "- 두 개의 자연수에 대한 최대 공약수를 구하는 대표적인 알고리즘\n",
    "- 유클리드 호제법: 두 자연수 A, B에 대하여 (A>B) A를 B로 나눈 나머지를 R이라고 할 때 A, B의 최대공약수는 B와 R의 최대공약수와 같다"
   ]
  },
  {
   "cell_type": "code",
   "execution_count": 5,
   "metadata": {},
   "outputs": [
    {
     "name": "stdout",
     "output_type": "stream",
     "text": [
      "6\n"
     ]
    }
   ],
   "source": [
    "def gcd(a, b):\n",
    "    if a % b == 0:\n",
    "        return b\n",
    "    else:\n",
    "        return gcd(b, a%b) # b와 a를 b로 나눈 나머지를 반환\n",
    "\n",
    "print(gcd(192, 162))\n"
   ]
  },
  {
   "cell_type": "markdown",
   "metadata": {},
   "source": [
    "재귀 함수 사용의 유의 사항\n",
    "- 모든 재귀 함수는 반복문을 이용하여 동일한 기능을 구현할 수 있음\n",
    "- 컴퓨터가 함수를 연속적으로 호출하면 컴퓨터 메모리 내부의 스택 프레임이 쌓임 -> 그래서 스택을 사용해야 할 때 구현상 스택 라이브러리 대신에 재귀 함수를 이용하는 경우가 많다!"
   ]
  },
  {
   "cell_type": "markdown",
   "metadata": {},
   "source": [
    "DFS(Depth-First Search)\n",
    "- 깊이 우선 탐색: 그래프에서 깊은 부분을 우선적으로 탐색하는 알고리즘\n",
    "- 스택 자료구조(혹은 재귀 함수)를 이용함\n",
    "1. 탐색 시작 노드를 스택에 삽입하고 방문처리\n",
    "2. 스택의 최상단 노드에 방문하지 않은 인접한 노드가 하나라도 있으면 그 노드를 스택에 넣고 방문 처리. 방문하지 않은 인접 노드가 없으면 스택에서 최상단 노드를 꺼냄\n",
    "3. 더 이상 2번의 과정을 수행할 수 없을 때 까지 반복"
   ]
  },
  {
   "cell_type": "code",
   "execution_count": 10,
   "metadata": {},
   "outputs": [],
   "source": [
    "# DFS 메서드 정의\n",
    "def dfs(graph, v, visited):\n",
    "    # 현재 노드를 방문처리\n",
    "    visited[v] = True\n",
    "    print(v, end=' ') # 방문했다는 의미로 출력\n",
    "\n",
    "    # 스택의 최상단에 있는 원소와 연결된 다른 노드를 재귀적으로 방문\n",
    "    for i in graph[v]:\n",
    "        if not visited[i]:\n",
    "            dfs(graph, i, visited)"
   ]
  },
  {
   "cell_type": "code",
   "execution_count": 3,
   "metadata": {},
   "outputs": [
    {
     "name": "stdout",
     "output_type": "stream",
     "text": [
      "1 2 7 6 8 3 4 5 "
     ]
    },
    {
     "data": {
      "text/plain": [
       "[False, True, True, True, True, True, True, True, True]"
      ]
     },
     "execution_count": 3,
     "metadata": {},
     "output_type": "execute_result"
    }
   ],
   "source": [
    "# DFS 메서드: 그래프, 현재 노드, 방문한 노드\n",
    "def dfs(graph, v, visted):\n",
    "    visited[v] = True\n",
    "    print(v, end = ' ')\n",
    "\n",
    "    for i in graph[v]:\n",
    "        if not visited[i]:\n",
    "            dfs(graph, i, visited)\n",
    "\n",
    "graph = [\n",
    "    [], # 1번 인덱스부터 시작하는 경우가 많기 때문에 0번 인덱스는 비워둔다.\n",
    "    [2, 3, 8], # 1번 노드와 연결된 것\n",
    "    [1, 7], # 2번 노드와 연결된 것\n",
    "    [1, 4, 5], # 3\n",
    "    [3, 5], # 4\n",
    "    [3, 4], # 5\n",
    "    [7], # 6\n",
    "    [2, 6, 8], #7\n",
    "    [1, 7] #8\n",
    "]\n",
    "\n",
    "visited = [False] * 9 #아직 아무곳도 방문하지 않았기에 0값임\n",
    "\n",
    "dfs(graph, 1, visited) # 그래프, 현재 노드는 1일때\n",
    "visited\n"
   ]
  },
  {
   "cell_type": "code",
   "execution_count": 11,
   "metadata": {},
   "outputs": [
    {
     "name": "stdout",
     "output_type": "stream",
     "text": [
      "1 2 7 6 8 3 4 5 "
     ]
    }
   ],
   "source": [
    "# 각 노드가 연결된 정보를 표현(2차원 리스트)\n",
    "graph = [\n",
    "    [], # 1번 인덱스부터 시작하는 경우가 많기 때문에 0번 인덱스는 비워둔다.\n",
    "    [2, 3, 8], # 1번 노드와 연결된 것\n",
    "    [1, 7], # 2번 노드와 연결된 것\n",
    "    [1, 4, 5],\n",
    "    [3, 5],\n",
    "    [3, 4],\n",
    "    [7],\n",
    "    [2, 6, 8],\n",
    "    [1, 7]\n",
    "]\n",
    "\n",
    "# 각 노드가 방문된 정보를 표현(1차원 리스트)\n",
    "visited = [False] * 9 # 아직 어느 노드도 방문하지 않았음\n",
    "\n",
    "dfs(graph, 1, visited)"
   ]
  },
  {
   "cell_type": "markdown",
   "metadata": {},
   "source": [
    "BFS (Breadth-First Search)\n",
    "- 너비 우선 탐색. 가까운 노드부터 우선적으로 탐색하는 알고리즘\n",
    "- 큐 자료구조를 이용함\n",
    "1. 탐색 시작 노드를 큐에 삽입하고 방문 처리함\n",
    "2. 큐에서 노드를 꺼낸 뒤에 해당 노드의 인접 노드 중에서 방문하지 않은 노드를 모두 큐에 삽입하고 방문처리함\n",
    "3. 더 이상 2번의 수행을 할 수 없을 때 까지 반복\n"
   ]
  },
  {
   "cell_type": "code",
   "execution_count": 3,
   "metadata": {},
   "outputs": [],
   "source": [
    "from collections import deque\n",
    "\n",
    "# BFS 메서드 정의\n",
    "def bfs(graph, start, visited):\n",
    "    queue = deque([start])\n",
    "    visited[start] = True # 현재 노드를 방문 처리\n",
    "\n",
    "    while queue: # 큐가 빌 때 까지 반복(더이상 사용할 수 없을 때 까지)\n",
    "        v = queue.popleft() # 큐에서 하나의 원소를 뽑아 출력하기(가장 먼저 들어왔던 원소)\n",
    "        print(v, end=' ')\n",
    "\n",
    "        for i in graph[v]: # 아직 방문하지 않은 인접한 원소들을 큐에 삽입\n",
    "            if not visited[i]:\n",
    "                queue.append(i)\n",
    "                visited[i] = True"
   ]
  },
  {
   "cell_type": "code",
   "execution_count": 4,
   "metadata": {},
   "outputs": [
    {
     "name": "stdout",
     "output_type": "stream",
     "text": [
      "1 2 3 8 7 4 5 6 "
     ]
    }
   ],
   "source": [
    "# 각 노드가 연결된 정보를 표현(2차원 리스트)\n",
    "graph = [\n",
    "    [], # 1번 인덱스부터 시작하는 경우가 많기 때문에 0번 인덱스는 비워둔다.\n",
    "    [2, 3, 8], # 1번 노드와 연결된 것\n",
    "    [1, 7], # 2번 노드와 연결된 것\n",
    "    [1, 4, 5],\n",
    "    [3, 5],\n",
    "    [3, 4],\n",
    "    [7],\n",
    "    [2, 6, 8],\n",
    "    [1, 7]\n",
    "]\n",
    "\n",
    "# 각 노드가 방문된 정보를 표현(1차원 리스트)\n",
    "visited = [False] * 9 # 아직 어느 노드도 방문하지 않았음\n",
    "\n",
    "bfs(graph, 1, visited)"
   ]
  },
  {
   "cell_type": "markdown",
   "metadata": {},
   "source": [
    "<문제> 음료수 얼려 먹기\n",
    "- N*M크기의 얼음 틀이 있습니다. 구멍이 뚫려 있는 부분은 0, 칸막이가 존재하는 부분은 1로 표시됩니다. 구멍이 뚫려 있는 부분끼리 상, 하, 좌, 우로 붙어 있는 경우 서로 연결되어 있는 것으로 간주합니다. 이때 얼음 틀의 모양이 주어졌을 때 생성되는 총 아이스크림의 개수를 구하는 프로그램을 작성하세요. "
   ]
  },
  {
   "cell_type": "markdown",
   "metadata": {},
   "source": [
    "DFS 활용하는 알고리즘\n",
    "1. 특정한 지점의 주변 상, 하, 좌, 우를 살펴본 뒤에 주변 지점 중에서 값이 '0'이면서 아직 방문하지 않은 지점이 있다면 해당 지점을 방문한다.\n",
    "2. 방문한 지점에서 다시 상, 하, 좌, 우를 살펴보면서 방문을 진행하는 과정을 반복하면, 연결된 모든 지점을 방문할 수 있다.\n",
    "3. 모든 노드에 대하여 1~2번의 과정을 반복하며, 방문하지 않은 지점의 수를 카운트한다."
   ]
  },
  {
   "cell_type": "code",
   "execution_count": null,
   "metadata": {},
   "outputs": [],
   "source": [
    "# 연결 요소 찾기. connected component 문제라고도 할 수 있음.\n",
    "def ice(x, y):\n",
    "    if x<=1 or x>=n or y<=-1 or y>=m:\n",
    "        return False\n",
    "\n",
    "    if graph[x][y] == 0:\n",
    "        graph[x][y] = 1\n",
    "\n",
    "        dfs(x-1, y)\n",
    "        dfs(x, y-1)\n",
    "        dfs(x+1, y)\n",
    "        dfs(x, y+1)\n",
    "        return True\n",
    "    return False\n",
    "\n",
    "n, m = map(int, input().split()) # n, m을 공백을 기준으로 구분하여 입력 받기\n",
    "\n",
    "graph = [] # 2차원 리스트의 맵 정보 입력 받기\n",
    "for i in range(n):\n",
    "    graph.append(list(map(int, input())))\n",
    "\n",
    "result = 0\n",
    "for i in range(n):\n",
    "    for j in range(m):\n",
    "        if dfs(i, j) == True:\n",
    "            result +=1\n",
    "\n",
    "print(result)"
   ]
  },
  {
   "cell_type": "markdown",
   "metadata": {},
   "source": [
    "<문제> 미로 탈출\n",
    "- N*M 크기의 직사각형 형태의 미로에 갇혔습니다.\n",
    "- 현재 동빈이의 위치는 (1,1)이며 미로의 출구는 (N, M)의 위치에 존재하며 한 번에 한 칸씩 이동할 수 있습니다. 이때 괴물이 있는 부분은 0으로, 없는 부분은 1로 표시되어 있습니다. 미로는 반드시 탈출할 수 있는 형태로 제시됩니다.\n",
    "- 이때 탈출하기 위해 움직여야 하는 최소 칸의 개수를 구하세요. 칸을 셀 때는 시작 칸과 마지막 칸을 모두 포함해서 계산합니다"
   ]
  },
  {
   "cell_type": "markdown",
   "metadata": {},
   "source": [
    "해결 아이디어\n",
    "- BFS는 시작 지점에서 가까운 노드부터 차례대로 모든 노드를 탐색\n",
    "- 상, 하, 좌, 우로 연결된 모든 노드로의 거리가 1로 동일하다. 따라서 (1, 1)부터 BFS를 수행하여 모든 노드의 최단 거리 값을 기록하면 해결할 수 있음"
   ]
  },
  {
   "cell_type": "code",
   "execution_count": null,
   "metadata": {},
   "outputs": [],
   "source": [
    "from collections import deque\n",
    "\n",
    "n, m = map(int, input().split())\n",
    "\n",
    "graph = []\n",
    "for i in range(n):\n",
    "    graph.append(list(map(int, input())))\n",
    "\n",
    "dx = [-1, -1, 0, 0]\n",
    "dy = [0, 0, -1, 1]"
   ]
  },
  {
   "cell_type": "code",
   "execution_count": null,
   "metadata": {},
   "outputs": [],
   "source": [
    "def bfs(x, y):\n",
    "    queue = deque()\n",
    "    queue.append((x, y))\n",
    "\n",
    "    while queue:\n",
    "        x, y = queue.popleft()\n",
    "\n",
    "        for i in range(4):\n",
    "            nx = x + dx[i]\n",
    "            ny = y + dy[i]\n",
    "\n",
    "            if nx<0 or nx>=n or ny<0 or ny>=m:\n",
    "                continue\n",
    "            if graph[nx][ny] == 0:\n",
    "                continue\n",
    "\n",
    "            if graph[nx][ny] == 1:\n",
    "                graph[nx][ny] = graph[x][y] + 1\n",
    "                queue.append((nx, ny))\n",
    "    return graph[n-1][m-1]"
   ]
  }
 ],
 "metadata": {
  "kernelspec": {
   "display_name": "Python 3.10.4 ('study')",
   "language": "python",
   "name": "python3"
  },
  "language_info": {
   "codemirror_mode": {
    "name": "ipython",
    "version": 3
   },
   "file_extension": ".py",
   "mimetype": "text/x-python",
   "name": "python",
   "nbconvert_exporter": "python",
   "pygments_lexer": "ipython3",
   "version": "3.10.4"
  },
  "orig_nbformat": 4,
  "vscode": {
   "interpreter": {
    "hash": "2cfda4edd5fd29a80a355332d4a199ceff4e11192a2c7367aec533c8ff01e680"
   }
  }
 },
 "nbformat": 4,
 "nbformat_minor": 2
}
