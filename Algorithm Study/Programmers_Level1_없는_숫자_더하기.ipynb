{
 "cells": [
  {
   "cell_type": "markdown",
   "metadata": {},
   "source": [
    "<span style=\"font-family: 을유1945; font-size: 30px; font-weight: 500\">없는 숫자 더하기</span>"
   ]
  },
  {
   "cell_type": "markdown",
   "metadata": {},
   "source": [
    "<span style=\"font-family: 을유1945; font-size: 25px;\">1. 문제 설명</span>\n",
    "\n",
    "<span style=\"font-family: 을유1945; font-size: 17px;\">&nbsp;&nbsp;&nbsp;&nbsp;0부터 9까지의 숫자 중 일부가 들어있는 정수 배열 <b><span style=\"color: #FFD700\">numbers</span></b>가 매개변수로 주어집니다. <b><span style=\"color: #FFD700\">numbers</span></b>에서 찾을 수 없는 0부터 9까지의 숫자를 모두 찾아 더한 수를 반환(Return)하도록 <b><span style=\"color: #FFD700\">solution</span></b> 함수를 완성하세요.</span>"
   ]
  },
  {
   "cell_type": "markdown",
   "metadata": {},
   "source": [
    "<span style=\"font-family: 을유1945; font-size: 25px;\">2. 제한사항</span>\n",
    "\n",
    "<span style=\"font-family: 을유1945; font-size: 17px;\">&nbsp;&nbsp;&nbsp;&nbsp;● 1 ≤ <b><span style=\"color: #FFD700\">numbers</span></b>의 길이 ≤ 9</span>\n",
    "\n",
    "<span style=\"font-family: 을유1945; font-size: 17px;\">&nbsp;&nbsp;&nbsp;&nbsp;● 0 ≤ <b><span style=\"color: #FFD700\">numbers</span></b>의 모든 원소 ≤ 9</span>\n",
    "\n",
    "<span style=\"font-family: 을유1945; font-size: 17px;\">&nbsp;&nbsp;&nbsp;&nbsp;● <b><span style=\"color: #FFD700\">numbers</span></b>의 모든 원소는 서로 다릅니다.</span>"
   ]
  },
  {
   "cell_type": "markdown",
   "metadata": {},
   "source": [
    "<span style=\"font-family: 을유1945; font-size: 25px;\">3. 답안</span>"
   ]
  },
  {
   "cell_type": "code",
   "execution_count": 6,
   "metadata": {},
   "outputs": [],
   "source": [
    "def solution(numbers):\n",
    "\n",
    "    # numbers에서 찾을 수 없는 숫자를 저장할 unique_number 리스트 초기화\n",
    "    unique_number = []\n",
    "\n",
    "    # 반복문을 통해 numbers에서 찾을 수 없는 숫자만 그대로 추가하고, numbers에서 찾을 수 있는 숫자는 0으로 추가\n",
    "    for num in range(10):\n",
    "        unique_number.append(num if num not in numbers else 0)\n",
    "\n",
    "    # unique_number 리스트의 원소의 총합을 변수에 저장\n",
    "    answer = sum(unique_number)\n",
    "\n",
    "    # 결과 값 반환\n",
    "    return answer"
   ]
  },
  {
   "cell_type": "code",
   "execution_count": 7,
   "metadata": {},
   "outputs": [
    {
     "data": {
      "text/plain": [
       "14"
      ]
     },
     "execution_count": 7,
     "metadata": {},
     "output_type": "execute_result"
    }
   ],
   "source": [
    "# 입출력 예시 : 결과 값 14\n",
    "solution([1, 2, 3, 4, 6, 7, 8, 0])"
   ]
  },
  {
   "cell_type": "code",
   "execution_count": 8,
   "metadata": {},
   "outputs": [
    {
     "data": {
      "text/plain": [
       "6"
      ]
     },
     "execution_count": 8,
     "metadata": {},
     "output_type": "execute_result"
    }
   ],
   "source": [
    "# 입출력 예시 : 결과 값 6\n",
    "solution([5, 8, 4, 0, 6, 7, 9])"
   ]
  },
  {
   "cell_type": "markdown",
   "metadata": {},
   "source": [
    "<span style=\"font-family: 을유1945; font-size: 25px;\">4. 해설</span>"
   ]
  },
  {
   "cell_type": "code",
   "execution_count": 10,
   "metadata": {},
   "outputs": [],
   "source": [
    "def another_solution(numbers):\n",
    "\n",
    "    # 0부터 9까지 더한 값에서 numbers의 숫자 총합을 빼는 것으로 처리\n",
    "    return 45 - sum(numbers)"
   ]
  },
  {
   "cell_type": "code",
   "execution_count": 11,
   "metadata": {},
   "outputs": [
    {
     "data": {
      "text/plain": [
       "14"
      ]
     },
     "execution_count": 11,
     "metadata": {},
     "output_type": "execute_result"
    }
   ],
   "source": [
    "# 입출력 예시 : 결과 값 14\n",
    "another_solution([1, 2, 3, 4, 6, 7, 8, 0])"
   ]
  },
  {
   "cell_type": "code",
   "execution_count": 12,
   "metadata": {},
   "outputs": [
    {
     "data": {
      "text/plain": [
       "6"
      ]
     },
     "execution_count": 12,
     "metadata": {},
     "output_type": "execute_result"
    }
   ],
   "source": [
    "# 입출력 예시 : 결과 값 6\n",
    "another_solution([5, 8, 4, 0, 6, 7, 9])"
   ]
  }
 ],
 "metadata": {
  "kernelspec": {
   "display_name": "Python 3.9.12 ('base')",
   "language": "python",
   "name": "python3"
  },
  "language_info": {
   "codemirror_mode": {
    "name": "ipython",
    "version": 3
   },
   "file_extension": ".py",
   "mimetype": "text/x-python",
   "name": "python",
   "nbconvert_exporter": "python",
   "pygments_lexer": "ipython3",
   "version": "3.9.12"
  },
  "orig_nbformat": 4,
  "vscode": {
   "interpreter": {
    "hash": "935a784c055a7b21e047e8af34b03b2623f1270c39444abb64202b2d0bed73c4"
   }
  }
 },
 "nbformat": 4,
 "nbformat_minor": 2
}
