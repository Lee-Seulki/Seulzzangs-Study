{
 "cells": [
  {
   "cell_type": "markdown",
   "metadata": {},
   "source": [
    "# 서로소 집합\n",
    "- 서로소 집합(Disjoint sets)란 공통원소가 없는 두 집합이다.\n",
    "# 서로소 집합 자료구조\n",
    "- 서로소 부분 집합들로 나누어진 원소들의 데이터를 처리하기 위한 자료구조\n",
    "- 서로소 집합 자료구조는 두 종류의 연산을 지원한다.\n",
    "    - **합집합**: 두개의 원소가 포함된 집합을 하나의 집합으로 합치는 연산\n",
    "    - **찾기**: 특정한 원소가 속한 집합이 어떤 집합인지 알려주는 연산\n",
    "- 서로소 집합 자료구조는 합치기 찾기 자료구조라고 불리기도 한다.\n",
    "- 여러개의 합치기 연산이 주어졌을 때 서로소 집합 자료구조의 동작 과정은 다음과 같다.\n",
    "    1. 합집합 연산을 확인하여, 서로 연결된 두 노드 A, B를 확인한다.\n",
    "    - 합집합 연산을 확인하여 루트 노드 A', B'를 각각 찾는다.\n",
    "    - A'를 B'의 부모 노드로 설정한다.\n",
    "    2. 모든 합집합 연산을 처리할 때 까지 1번의 과정을 반복한다."
   ]
  },
  {
   "cell_type": "markdown",
   "metadata": {},
   "source": [
    "# 서로소 집합 자료구조: 동작과정 살펴보기\n",
    "- 처리할 연산들: `Union(1, 4)`, `Union(2, 3)`, `Union(2, 4)`, `Union(5, 6)`\n",
    "- [초기단계] 노드의 개수 크기의 부모 테이블을 초기화 한다.\n",
    "- [Step 1] 노드 1과 노드 4의 루트 노드를 각각 찾는다. 현재 루트 노드는 각각 1과 4 이므로 더 큰 번호에 해당하는 루트 노드 4의 부모를 1로 설정한다.\n",
    "- [Step 2] 노드 2와 3의 루트 노드를 각각 찾는다. 현재 루트 노드는 각각 2와 3이므로 더 큰 번호에 해당하는 루트 노드 3의 부모를 2로 설정한다.\n",
    "- [Step 3] 노드 2와 노드 4의 루트 노드를 각각 찾는다. 현재 루트 노드는 각각 2와 1이므로 더 큰 번호에 해당하는 루트 노드 2의 부모를 1로 설정한다. (더 작은 쪽인 1을 가르킬 수 있도록 2번 노드의 부모를 1로 설정한다)\n",
    "- [Step 4] 노드 5와 노드 6의 루트 노드를 각각 찾는다. 현재 루트 노드는 각각 5와 6이므로 더 큰 번호에 해당하는 루트 노드 6의 부모를 5로 설정한다.\n",
    "# 서로소 집합 자료구조: 연결성\n",
    "- 서로소 집합 자료구조에서는 연결성을 통해 손쉽게 집합의 형태를 확인할 수 있다.\n",
    "(같은 루트를 가진 노드들은 같은 집합이다)\n",
    "- 기본적인 형태의 서로소 집합 자료구조에서는 루트 노드에 즉시 접근할 수 없다.\n",
    "    - 루트 노드를 찾기 위해서 부모 테이블을 계속해서 확인하며 거슬러 올라가야 한다."
   ]
  },
  {
   "cell_type": "code",
   "execution_count": 2,
   "metadata": {},
   "outputs": [
    {
     "name": "stdout",
     "output_type": "stream",
     "text": [
      "각 원소가 속한 집합: 111456\n",
      "부모 테이블: 111456"
     ]
    }
   ],
   "source": [
    "# 기본적인 구현 방법\n",
    "# 특정 원소가 속한 집합을 찾기 위해서 루트 노드를 반환\n",
    "# parent: 부모테이블, x: 노드번호\n",
    "def find_parent(parent, x):\n",
    "    # 현재부모가 자기 자신이 아니라면 루트번호가 아니기 때문에\n",
    "    if parent[x] != x:\n",
    "        return find_parent(parent, parent[x])\n",
    "    return x\n",
    "\n",
    "# 두 원소가 속한 집합을 합치기\n",
    "# a와 b가 연결되어있다는 의미\n",
    "def union_parent(parent, a, b):\n",
    "    a = find_parent(parent, a)\n",
    "    b = find_parent(parent, b)\n",
    "    if a < b:\n",
    "        parent[b] = a\n",
    "    else:\n",
    "        parent[a] = b\n",
    "\n",
    "# 노드의 개수와 간선(Union 연산)의 개수를 입력받기\n",
    "v, e = map(int, input().split())\n",
    "parent = [0] * (v+1) # 부모 테이블 초기화\n",
    "\n",
    "# 부모테이블 상에서 부모를 자기 자신으로 초기화\n",
    "for i in range(1, v+1):\n",
    "    parent[i] = i\n",
    "\n",
    "# 두 원소를 연결하고 있는 연결 여부에 따라서 union 연산 수행\n",
    "for i in range(e):\n",
    "    a, b = map(int, input().split())\n",
    "    union_parent(parent, a, b)\n",
    "\n",
    "print('각 원소가 속한 집합: ', end='')\n",
    "for i in range(1, v+1):\n",
    "    print(find_parent(parent, i), end='')\n",
    "\n",
    "print()\n",
    "\n",
    "print('부모 테이블: ', end='')\n",
    "for i in range(1, v+1):\n",
    "    print(parent[i], end='')"
   ]
  },
  {
   "cell_type": "markdown",
   "metadata": {},
   "source": [
    "# 서로소 집합 자료구조: 경로 압축\n",
    "- 찾기 함수를 최적화 하기 위한 방법으로 경로 압축을 이용할 수 있다.\n",
    "    - 찾기 함수를 재귀적으로 호출한 뒤에 부모 테이블 값을 바로 갱신"
   ]
  },
  {
   "cell_type": "code",
   "execution_count": 3,
   "metadata": {},
   "outputs": [],
   "source": [
    "# 기본적인 구현 방법\n",
    "# 특정 원소가 속한 집합을 찾기 위해서 루트 노드를 반환\n",
    "# parent: 부모테이블, x: 노드번호\n",
    "def find_parent(parent, x):\n",
    "    # 현재부모가 자기 자신이 아니라면 루트번호가 아니기 때문에\n",
    "    if parent[x] != x:\n",
    "        return find_parent(parent, parent[x])\n",
    "    return x\n",
    "\n",
    "# 특정 원소가 속한 집합을 찾기\n",
    "def find_parent(parent, x):\n",
    "    if parent[x] != x:\n",
    "        # 그 반환값을 부모값이 될 수 있도록 갱신\n",
    "        parent[x] = find_parent(parent, parent[x])\n",
    "    return parent[x]"
   ]
  },
  {
   "cell_type": "code",
   "execution_count": 4,
   "metadata": {},
   "outputs": [
    {
     "name": "stdout",
     "output_type": "stream",
     "text": [
      "각 원소가 속한 집합: 111456\n",
      "부모 테이블: 111456"
     ]
    }
   ],
   "source": [
    "# 특정 원소가 속한 집합을 찾기\n",
    "def find_parent(parent, x):\n",
    "    if parent[x] != x:\n",
    "        # 그 반환값을 부모값이 될 수 있도록 갱신\n",
    "        parent[x] = find_parent(parent, parent[x])\n",
    "    return parent[x]\n",
    "\n",
    "# 두 원소가 속한 집합을 합치기\n",
    "# a와 b가 연결되어있다는 의미\n",
    "def union_parent(parent, a, b):\n",
    "    a = find_parent(parent, a)\n",
    "    b = find_parent(parent, b)\n",
    "    if a < b:\n",
    "        parent[b] = a\n",
    "    else:\n",
    "        parent[a] = b\n",
    "\n",
    "# 노드의 개수와 간선(Union 연산)의 개수를 입력받기\n",
    "v, e = map(int, input().split())\n",
    "parent = [0] * (v+1) # 부모 테이블 초기화\n",
    "\n",
    "# 부모테이블 상에서 부모를 자기 자신으로 초기화\n",
    "for i in range(1, v+1):\n",
    "    parent[i] = i\n",
    "\n",
    "# 두 원소를 연결하고 있는 연결 여부에 따라서 union 연산 수행\n",
    "for i in range(e):\n",
    "    a, b = map(int, input().split())\n",
    "    union_parent(parent, a, b)\n",
    "\n",
    "print('각 원소가 속한 집합: ', end='')\n",
    "for i in range(1, v+1):\n",
    "    print(find_parent(parent, i), end='')\n",
    "\n",
    "print()\n",
    "\n",
    "print('부모 테이블: ', end='')\n",
    "for i in range(1, v+1):\n",
    "    print(parent[i], end='')"
   ]
  },
  {
   "cell_type": "markdown",
   "metadata": {},
   "source": [
    "# 서로소 집합을 활용한 사이클 판별\n",
    "- 서로소 집합은 무방향 그래프 내에서의 사이클을 판별할 때 사용할 수 있다.\n",
    "    - 참고로 방향 그래프에서의 사이클 여부는 DFS를 이용하여 판별할 수 있다.\n",
    "- 사이클 판별 알고리즘은 다음과 같다.\n",
    "    1. 각 간선을 하나씩 확인하며 두 노드의 루트 노드를 확인한다. (find 함수 호출)\n",
    "    - 루트 노드가 서로 다르다면 두 노드에 대하여 합집합 수행 (다른 집합이라면 합집합 연산 수행(같은 집합이 될 수 있도록 함))\n",
    "    - 루트 노드가 서로 같다면 사이클이 발생한 것 (이미 같은 집합이라면 사이클이 발생)\n",
    "    2. 그래프에 포함되어 있는 모든 간선에 대하여 1번 과정을 반복"
   ]
  },
  {
   "cell_type": "code",
   "execution_count": 5,
   "metadata": {},
   "outputs": [
    {
     "name": "stdout",
     "output_type": "stream",
     "text": [
      "사이클이 발생했습니다.\n"
     ]
    }
   ],
   "source": [
    "# 경로압축\n",
    "def find_parent(parent, x):\n",
    "    if parent[x] != x:\n",
    "        parent[x] = find_parent(parent, parent[x])\n",
    "    return parent[x]\n",
    "\n",
    "def union_parent(parent, a, b):\n",
    "    a = find_parent(parent, a)\n",
    "    b = find_parent(parent, b)\n",
    "    if a < b:\n",
    "        parent[b] = a\n",
    "    else:\n",
    "        parent[a] = b\n",
    "\n",
    "v, e = map(int, input().split())\n",
    "parent = [0] * (v+1) # 부모 테이블 초기화\n",
    "\n",
    "for i in range(1, v+1):\n",
    "    parent[i] = i\n",
    "\n",
    "cycle = False # 사이클 발생 여부\n",
    "\n",
    "for i in range(e):\n",
    "    a, b = map(int, input().split())\n",
    "    if find_parent(parent, a) == find_parent(parent, b):\n",
    "        cycle = True\n",
    "        break\n",
    "    else:\n",
    "        union_parent(parent, a, b)\n",
    "\n",
    "if cycle:\n",
    "    print('사이클이 발생했습니다.')\n",
    "else:\n",
    "    print('사이클이 발생하지 않았습니다.')"
   ]
  },
  {
   "cell_type": "markdown",
   "metadata": {},
   "source": [
    "# 신장 트리\n",
    "- 그래프에서 모든 노드를 포함하면서 사이클이 존재하지 않는 부분 그래프를 의미\n",
    "    - 모든 노드가 포함되어 서로 연결되면서 사이클이 존재하지 않는다는 조건은 트리의 조건이기도 함\n",
    "# 최소 신장 트리\n",
    "- 최소한의 비용으로 구성되는 신장 트리를 찾아야 할 때 어떻게 해야할까?\n",
    "- 예를 들어 N개의 도시가 존재하는 상황에서 두 도시 사이에 도로를 놓아 전체 도시가 서로 연결될 수 있게 도로를 설치하는 경우를 생각해 봅시다.\n",
    "    - 두 도시 A, B를 선택했을 때 A에서 B로 이동하는 경로가 반드시 하나 이상은 존재하도록 도로를 설치합니다.\n",
    "# 크루스칼 알고리즘\n",
    "- 대표적인 최소 신장 트리 알고리즘\n",
    "- 그리디 알고리즘으로 분류됨\n",
    "1. 간선 데이터를 비용에 따라 오름차순으로 정렬\n",
    "2. 간선을 하나씩 확인하며 현재의 간선이 사이클을 발생시키는지 확인\n",
    "    - 사이클이 발생하지 않는 경우 **최소 신장 트리**에 포함\n",
    "    - 사이클이 발생하는 경우 최소 신장 트리에 포함시키지 않는다\n",
    "3. 모든 간선에 대하여 2번 과정을 반복한다.\n",
    "- 최종적으로 만들어지는 최소 신장 트리의 간선의 개수는 `전체 노드의 개수 - 1` 이다.\n",
    "    - 기본적으로 트리가 가지는 특성이며 사이클이 존재하지 않는다는 특징이 있다.\n",
    "- 최소 신장 트리에 포함되어 있는 간선의 비용만 모두 더하면, 그 값이 최종 비용에 해당한다."
   ]
  },
  {
   "cell_type": "code",
   "execution_count": null,
   "metadata": {},
   "outputs": [],
   "source": [
    "def find_parent(parent, x):\n",
    "    if parent[x] != x:\n",
    "        parent[x] = find_parent(parent, parent[x])\n",
    "    return parent[x]\n",
    "\n",
    "def union_parent(parent, a, b):\n",
    "    a = find_parent(parent, a)\n",
    "    b = find_parent(parent, b)\n",
    "    if a < b:\n",
    "        parent[b] = a\n",
    "    else:\n",
    "        parent[a] = b\n",
    "\n",
    "v, e = map(int, input().split())\n",
    "parent = [0] * (v+1)\n",
    "\n",
    "# 간선을 담을 리스트와 최종 비용을 담을 변수\n",
    "edges = []\n",
    "result = 0\n",
    "\n",
    "for i in range(1, v+1):\n",
    "    parent[i] = i\n",
    "\n",
    "# 모든 간선에 대한 정보를 입력 받기\n",
    "for _ in range(e):\n",
    "    a, b, cost = map(int, input().split())\n",
    "    # 비용순으로 정렬하기 위해서 튜플의 첫번째 원소를 비용으로 설정\n",
    "    edges.append((cost, a, b))\n",
    "\n",
    "edges.sort()\n",
    "\n",
    "# 간선을 하나씩 확인하며\n",
    "for edge in edges:\n",
    "    cost, a, b = edge\n",
    "    # 사이클이 발생하지 않는 경우에만 집합에 포함\n",
    "    if find_parent(parent, a) != find_parent(parent, b):\n",
    "        union_parent(parent, a, b)\n",
    "        result += cost\n",
    "\n",
    "print(result)"
   ]
  },
  {
   "cell_type": "markdown",
   "metadata": {},
   "source": [
    "# 위상 정렬\n",
    "- 사이클이 없는 방향 그래프의 모든 노드를 방향성에 거스르지 않도록 순서대로 나열하는 것\n",
    "- 예시) 선수과목을 고려한 학습 순서 설정\n",
    "# 진입차수와 진출차수\n",
    "- 진입차수: 특정한 노드로 들어오는 간선의 개수\n",
    "- 진출차수: 특정한 노드에서 나가는 간선의 개수\n",
    "# 위상정렬 알고리즘\n",
    "- 큐를 이용하는 위상 정렬 알고리즘의 동작 과정은 다음과 같습니다.\n",
    "1. 진입차수가 0인 모든 노드를 큐에 넣는다.\n",
    "2. 큐가 빌 때 까지 다음의 과정을 반복한다.\n",
    "    - 큐 에서 원소를 꺼내 해당 노드에서 나가는 간선을 그래프에서 제거\n",
    "    - 새롭게 진입차수가 0이 된 노드를 큐에 넣는다.\n",
    "-> 결과적으로 각 노드가 큐에 들어온 순서가 위상정렬을 수행한 결과와 같습니다.\n",
    "# 위상정렬의 특징\n",
    "- 위상정렬은 DAG에 대해서만 수행할 수 있다.\n",
    "- 여러가지 답이 존재할 수 있다.\n",
    "- 모든 원소를 방문하기 전에 큐가 빈다면 사이클이 존재한다고 판단.\n",
    "    - 사이클에 포함된 원소 중에서 어떠한 원소도 큐에 들어가지 못한다.\n",
    "- 스택을 활용한 DFS를 이용해 위상 정렬을 수행할 수도 있다."
   ]
  },
  {
   "cell_type": "code",
   "execution_count": null,
   "metadata": {},
   "outputs": [],
   "source": [
    "from collections import deque\n",
    "\n",
    "v, e = map(int, input().split())\n",
    "indegree = [0] * (v+1)\n",
    "graph = [[] for i in range(v+1)]\n",
    "\n",
    "# 방향 그래프의 모든 간선 정보를 입력받기\n",
    "for _ in range(e):\n",
    "    a, b = map(int, input().split())\n",
    "    graph[a].append(b) # 정점 A에서 B로 이동 가능\n",
    "    # 진입차수를 1 증가\n",
    "    indegree[b] += 1\n",
    "\n",
    "def topology_sort():\n",
    "    result = []\n",
    "    q = deque()\n",
    "    # 진입차수가 0인 노드를 큐에 삽입\n",
    "    for i in range(1, v+1):\n",
    "        if indegree[i] == 0:\n",
    "            q.append(i)\n",
    "    \n",
    "    # 큐가 빌 때 까지 반복\n",
    "    while q:\n",
    "        now = q.popleft()\n",
    "        result.append(now)\n",
    "        # 해당 원소와 연결된 노드들의 진입차수에서 1 빼기\n",
    "        for i in graph[now]:\n",
    "            indegree[i] -= 1\n",
    "            # 새롭게 진입차수가 0이 되는 노드를 큐에 삽입\n",
    "            if indegree[i] == 0:\n",
    "                q.append(i)\n",
    "                \n",
    "    for i in result:\n",
    "        print(i, end='')\n",
    "\n",
    "topology_sort()"
   ]
  }
 ],
 "metadata": {
  "kernelspec": {
   "display_name": "Python 3.10.4 ('study')",
   "language": "python",
   "name": "python3"
  },
  "language_info": {
   "codemirror_mode": {
    "name": "ipython",
    "version": 3
   },
   "file_extension": ".py",
   "mimetype": "text/x-python",
   "name": "python",
   "nbconvert_exporter": "python",
   "pygments_lexer": "ipython3",
   "version": "3.10.4"
  },
  "orig_nbformat": 4,
  "vscode": {
   "interpreter": {
    "hash": "265738b0ff0e8c454188584953ec5ef2c5c2260cd2f18afc6053d979e67323cd"
   }
  }
 },
 "nbformat": 4,
 "nbformat_minor": 2
}
