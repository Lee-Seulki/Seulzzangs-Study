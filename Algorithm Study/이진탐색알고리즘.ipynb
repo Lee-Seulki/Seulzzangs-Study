{
 "cells": [
  {
   "cell_type": "markdown",
   "metadata": {},
   "source": [
    "## 이진 탐색 알고리즘\n",
    "- 순차 탐색: 리스트 안에 있는 특정한 데이터를 찾기 위해 앞에서부터 데이터를 하나씩 확인하는 방법\n",
    "- 이진 탐색: 정렬되어있는 리스트에서 탐색 범위를 절반씩 좁혀가며 데이터를 탐색하는 방법\n",
    "- 이진 탐색은 시작점, 끝점, 중간점을 이용하여 탐색 범위를 설정\n",
    "- 중간값이 두개 나오는 경우 소수점 이하 제거해서 사용"
   ]
  },
  {
   "cell_type": "code",
   "execution_count": 2,
   "metadata": {},
   "outputs": [
    {
     "ename": "ValueError",
     "evalue": "not enough values to unpack (expected 2, got 0)",
     "output_type": "error",
     "traceback": [
      "\u001b[1;31m---------------------------------------------------------------------------\u001b[0m",
      "\u001b[1;31mValueError\u001b[0m                                Traceback (most recent call last)",
      "\u001b[1;32mc:\\Users\\doobe\\OneDrive\\바탕 화면\\workspace\\AlgorithmStudy\\이진탐색알고리즘.ipynb 셀 2\u001b[0m in \u001b[0;36m<cell line: 15>\u001b[1;34m()\u001b[0m\n\u001b[0;32m     <a href='vscode-notebook-cell:/c%3A/Users/doobe/OneDrive/%EB%B0%94%ED%83%95%20%ED%99%94%EB%A9%B4/workspace/AlgorithmStudy/%EC%9D%B4%EC%A7%84%ED%83%90%EC%83%89%EC%95%8C%EA%B3%A0%EB%A6%AC%EC%A6%98.ipynb#W2sZmlsZQ%3D%3D?line=10'>11</a>\u001b[0m     \u001b[39m# 중간점의 값보다 찾고자 하는 값이 큰 경우 오른쪽 확인\u001b[39;00m\n\u001b[0;32m     <a href='vscode-notebook-cell:/c%3A/Users/doobe/OneDrive/%EB%B0%94%ED%83%95%20%ED%99%94%EB%A9%B4/workspace/AlgorithmStudy/%EC%9D%B4%EC%A7%84%ED%83%90%EC%83%89%EC%95%8C%EA%B3%A0%EB%A6%AC%EC%A6%98.ipynb#W2sZmlsZQ%3D%3D?line=11'>12</a>\u001b[0m     \u001b[39melse\u001b[39;00m:\n\u001b[0;32m     <a href='vscode-notebook-cell:/c%3A/Users/doobe/OneDrive/%EB%B0%94%ED%83%95%20%ED%99%94%EB%A9%B4/workspace/AlgorithmStudy/%EC%9D%B4%EC%A7%84%ED%83%90%EC%83%89%EC%95%8C%EA%B3%A0%EB%A6%AC%EC%A6%98.ipynb#W2sZmlsZQ%3D%3D?line=12'>13</a>\u001b[0m         \u001b[39mreturn\u001b[39;00m binary_search(array, target, mid\u001b[39m+\u001b[39m\u001b[39m1\u001b[39m, end)\n\u001b[1;32m---> <a href='vscode-notebook-cell:/c%3A/Users/doobe/OneDrive/%EB%B0%94%ED%83%95%20%ED%99%94%EB%A9%B4/workspace/AlgorithmStudy/%EC%9D%B4%EC%A7%84%ED%83%90%EC%83%89%EC%95%8C%EA%B3%A0%EB%A6%AC%EC%A6%98.ipynb#W2sZmlsZQ%3D%3D?line=14'>15</a>\u001b[0m n, target \u001b[39m=\u001b[39m \u001b[39mlist\u001b[39m(\u001b[39mmap\u001b[39m(\u001b[39mint\u001b[39m, \u001b[39minput\u001b[39m()\u001b[39m.\u001b[39msplit()))\n\u001b[0;32m     <a href='vscode-notebook-cell:/c%3A/Users/doobe/OneDrive/%EB%B0%94%ED%83%95%20%ED%99%94%EB%A9%B4/workspace/AlgorithmStudy/%EC%9D%B4%EC%A7%84%ED%83%90%EC%83%89%EC%95%8C%EA%B3%A0%EB%A6%AC%EC%A6%98.ipynb#W2sZmlsZQ%3D%3D?line=15'>16</a>\u001b[0m array \u001b[39m=\u001b[39m \u001b[39mlist\u001b[39m(\u001b[39mmap\u001b[39m(\u001b[39mint\u001b[39m, \u001b[39minput\u001b[39m()\u001b[39m.\u001b[39msplit()))\n\u001b[0;32m     <a href='vscode-notebook-cell:/c%3A/Users/doobe/OneDrive/%EB%B0%94%ED%83%95%20%ED%99%94%EB%A9%B4/workspace/AlgorithmStudy/%EC%9D%B4%EC%A7%84%ED%83%90%EC%83%89%EC%95%8C%EA%B3%A0%EB%A6%AC%EC%A6%98.ipynb#W2sZmlsZQ%3D%3D?line=17'>18</a>\u001b[0m result \u001b[39m=\u001b[39m binary_search(array, target, \u001b[39m0\u001b[39m, n\u001b[39m-\u001b[39m\u001b[39m1\u001b[39m)\n",
      "\u001b[1;31mValueError\u001b[0m: not enough values to unpack (expected 2, got 0)"
     ]
    }
   ],
   "source": [
    "def binary_search(array, target, start, end):\n",
    "    if start > end:\n",
    "        return None\n",
    "    mid = (start + end) // 2\n",
    "    # 중간점 인덱스 반환\n",
    "    if array[mid] == target:\n",
    "        return mid\n",
    "    # 중간점의 값보다 찾고자 하는 값이 큰 경우 왼쪽 확인\n",
    "    elif array[mid] > target:\n",
    "        return binary_search(array, target, start, mid-1)\n",
    "    # 중간점의 값보다 찾고자 하는 값이 큰 경우 오른쪽 확인\n",
    "    else:\n",
    "        return binary_search(array, target, mid+1, end)\n",
    "    \n",
    "n, target = list(map(int, input().split()))\n",
    "array = list(map(int, input().split()))\n",
    "\n",
    "result = binary_search(array, target, 0, n-1)\n",
    "if result == None:\n",
    "    print('원소가 존재하지 않습니다')\n",
    "else:\n",
    "    print(result + 1)"
   ]
  },
  {
   "cell_type": "code",
   "execution_count": null,
   "metadata": {},
   "outputs": [],
   "source": [
    "from bisect import bisect_left, bisect_right\n",
    "# 값이 특정 범위에 속하는 데이터 개수 구하기\n",
    "\n",
    "def count_by_range(a, left_value, right_value):\n",
    "    right_index = bisect_right(a, right_value)\n",
    "    left_index = bisect_left(a, left_value)\n",
    "    return right_index - left_index\n",
    "\n",
    "a = [1, 2, 3, 3, 3, 3, 4, 4, 8, 8]\n",
    "\n",
    "print(count_by_range(a, 4, 4))\n",
    "print(count_by_range(a, -1, 3))"
   ]
  },
  {
   "cell_type": "markdown",
   "metadata": {},
   "source": [
    "## 파라메트릭 서치\n",
    "- 최적화 문제를 결정 문제(예, 아니오)로 바꾸어 해결하는 기법\n",
    "- 예시: 특정한 조건을 만족하는 가장 알맞은 값을 빠르게 찾는 최적화 문제\n",
    "- 일반적으로 코딩 테스트에서 파라메트릭 서치 문제는 이진탐색을 이용하여 해결가능"
   ]
  },
  {
   "cell_type": "code",
   "execution_count": null,
   "metadata": {},
   "outputs": [],
   "source": [
    "# 적절한 높이를 찾을 때 까지 이진 탐색을 수행하여 높이 H를 반복해서 조정\n",
    "# 현재 이 높이로 자르면 조건을 만족할 수 있는가? 를 확인한 뒤에 만족 여부(예, 아니오)에 따라서 탐색범위를 좁혀서 해결\n",
    "# 이렇게 큰 범위를 보면 가장 먼저 이진탐색을 떠올려야 함\n",
    "# 중간점의 값은 시간이 지날수록 최적화된 값이 되기 때문에 과정을 반복하면서 얻을 수 있는 떡의 길이 합이 필요한 떡의 길이보다 크거나 같을 때마다 중간점의 값을 기록하면 됨.\n",
    "\n",
    "\n",
    "# 떡의 개수 n과 요청한 길이 m\n",
    "n, m = list(map(int, input().split()))\n",
    "# 각 떡의 개별 높이 정보 입력\n",
    "array = list(map(int, input().split()))\n",
    "\n",
    "start = 0\n",
    "end = max(array)\n",
    "\n",
    "result = 0\n",
    "while(start <= end):\n",
    "    total = 0\n",
    "    mid = (start + end) // 2\n",
    "    for x in array:\n",
    "        # 잘랐을 때 떡의 양 계산\n",
    "        if x > mid:\n",
    "            total += x - mid\n",
    "    # 떡의 양이 부족한 경우 더 많이 자르기(왼쪽 부분 탐색)\n",
    "    if total < m:\n",
    "        end = mid - 1\n",
    "    # 떡의 양이 충분한 경우 덜 자르기(오른쪽 부분 탐색)\n",
    "    else:\n",
    "        result = mid # 최대한 덜 잘랐을 때가 정답이므로 여기에서 result 기록\n",
    "        start = mid + 1\n",
    "\n",
    "print(result)"
   ]
  },
  {
   "cell_type": "code",
   "execution_count": null,
   "metadata": {},
   "outputs": [],
   "source": [
    "# 수열에서 등장하는 횟수\n",
    "# 선형 탐색으로는 시간초과\n",
    "# 이진탐색 수행(정렬되어 있기때문에)\n",
    "\n",
    "from bisect import bisect_left, bisect_right\n",
    "\n",
    "# 값이 lv, rv인 데이터의 개수를 반환하는 함수\n",
    "def count_by_range(array, left_value, right_value):\n",
    "    right_index = bisect_right(array, right_value)\n",
    "    left_index = bisect_left(array, right_value)\n",
    "    return right_index - left_index\n",
    "\n",
    "n, x = map(int, input().split())\n",
    "array = list(map(int, input().split()))\n",
    "\n",
    "count = count_by_range(array, x, x)\n",
    "\n",
    "if count == 0:\n",
    "    print(-1)\n",
    "else:\n",
    "    print(count)"
   ]
  }
 ],
 "metadata": {
  "kernelspec": {
   "display_name": "Python 3.10.4 ('study')",
   "language": "python",
   "name": "python3"
  },
  "language_info": {
   "codemirror_mode": {
    "name": "ipython",
    "version": 3
   },
   "file_extension": ".py",
   "mimetype": "text/x-python",
   "name": "python",
   "nbconvert_exporter": "python",
   "pygments_lexer": "ipython3",
   "version": "3.10.4"
  },
  "orig_nbformat": 4,
  "vscode": {
   "interpreter": {
    "hash": "2cfda4edd5fd29a80a355332d4a199ceff4e11192a2c7367aec533c8ff01e680"
   }
  }
 },
 "nbformat": 4,
 "nbformat_minor": 2
}
