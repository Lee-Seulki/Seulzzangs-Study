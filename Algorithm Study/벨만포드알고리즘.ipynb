{
 "cells": [
  {
   "cell_type": "markdown",
   "metadata": {},
   "source": [
    "# 음수 간선이 포함된 상황에서의 최단 거리 문제\n",
    "- BOJ 타임머신 문제 https://www.acmicpc.net/problem/11657\n",
    "- 모든 간선의 비용이 양수일 때는 **다익스트라 최단 경로 알고리즘**을 사용"
   ]
  },
  {
   "cell_type": "markdown",
   "metadata": {},
   "source": [
    "# 벨만 포드 최단 경로 알고리즘\n",
    "- 음수 간선에 관하여 최단 경로 문제는 다음과 같이 분류할 수 있다.\n",
    "1. 모든 간선이 양수인 경우\n",
    "2. 음수 간선이 있는 경우   \n",
    "(1) 음수 간선 순환은 없는 경우   \n",
    "(2) 음수 간선 순환이 있는 경우\n",
    "- 벨만 포드 최단 경로 알고리즘은 음의 간선이 포함된 상황에서도 사용할 수 있다.\n",
    "    - 또한 음수 간선의 순환을 감지할 수 있다.\n",
    "    - 벨만 포드의 기본 시간 복잡도는 O(VE)로 다익스트라 알고리즘에 비해 느리다.   "
   ]
  },
  {
   "cell_type": "markdown",
   "metadata": {},
   "source": [
    "\n",
    "\n",
    "- 동작 원리\n",
    "1. 출발 노드를 설정\n",
    "2. 최단 거리 테이블을 초기화\n",
    "3. 다음의 과정을 N-1번 반복   \n",
    "(1) 전체 간선 E개를 하나씩 확인   \n",
    "(2) 각 간선을 거쳐 다른 노드로 가는 비용을 계산하여 최단거리 테이블 갱신\n",
    "\n",
    "- 만약 음수 간선 순환이 발생하는지 체크하고 싶다면 **3번의 과정을 한번 더 수행**\n",
    "   - 이때 최단 거리 테이블이 갱신된다면 음수 간선 순환이 존재하는 것!"
   ]
  },
  {
   "cell_type": "markdown",
   "metadata": {},
   "source": [
    "# 벨만 포드 알고리즘 VS 다익스트라 알고리즘\n",
    "- 다익스트라 알고리즘\n",
    "    - 매번 방문하지 않은 노드 중에서 최단 거리가 가장 짧은 노드를 선택\n",
    "    - 음수 간선이 없다면 최적의 해를 찾을 수 있다.\n",
    "- 벨만 포드 알고리즘\n",
    "    - 매번 모든 간선을 전부 확인\n",
    "        - 따라서 **다익스트라 알고리즘에서의 최적의 해를 항상 포함**\n",
    "    - 다익스트라 알고리즘에 비해서 시간이 오래 걸리지만 음수 간선 순환을 탐지할 수 있음 "
   ]
  },
  {
   "cell_type": "code",
   "execution_count": null,
   "metadata": {},
   "outputs": [],
   "source": [
    "import sys\n",
    "input = sys.stdin.readline\n",
    "INF = int(1e9) # 무한을 의미하는 값으로 10억을 설정\n",
    "\n",
    "# 노드의 개수, 간선의 개수를 입력받기\n",
    "n, m = map(int, input().split())\n",
    "# 모든 간선에 대한 정보를 담는 리스트 만들기\n",
    "edges = []\n",
    "# 최단 거리 테이블을 모두 무한으로 초기화\n",
    "distance = [INF] * (n + 1)\n",
    "\n",
    "# 모든 간선 정보를 입력받기\n",
    "for _ in range(m):\n",
    "    a, b, c = map(int, input().split())\n",
    "    # a번 노드에서 b번 노드로 가는 비용이 c라는 의미\n",
    "    edges.append((a, b, c))\n",
    "\n",
    "def bf(start):\n",
    "    # 시작 노드에 대해서 초기화\n",
    "    distance[start] = 0\n",
    "    # 전체 n - 1번의 라운드(round)를 반복\n",
    "    for i in range(n):\n",
    "        # 매 반복마다 \"모든 간선\"을 확인하며\n",
    "        for j in range(m):\n",
    "            cur_node = edges[j][0]\n",
    "            next_node = edges[j][1]\n",
    "            edge_cost = edges[j][2]\n",
    "            # 현재 간선을 거쳐서 다른 노드로 이동하는 거리가 더 짧은 경우\n",
    "            if distance[cur_node] != INF and distance[next_node] > distance[cur_node] + edge_cost:\n",
    "                distance[next_node] = distance[cur_node] + edge_cost\n",
    "                # n번째 라운드에서도 값이 갱신된다면 음수 순환이 존재\n",
    "                if i == n - 1:\n",
    "                    return True\n",
    "    return False\n",
    "\n",
    "# 벨만 포드 알고리즘을 수행\n",
    "negative_cycle = bf(1) # 1번 노드가 시작 노드\n",
    "\n",
    "if negative_cycle:\n",
    "    print(\"-1\")\n",
    "else:\n",
    "    # 1번 노드를 제외한 다른 모든 노드로 가기 위한 최단 거리를 출력\n",
    "    for i in range(2, n + 1):\n",
    "        # 도달할 수 없는 경우, -1을 출력\n",
    "        if distance[i] == INF:\n",
    "            print(\"-1\")\n",
    "        # 도달할 수 있는 경우 거리를 출력\n",
    "        else:\n",
    "            print(distance[i])"
   ]
  }
 ],
 "metadata": {
  "kernelspec": {
   "display_name": "Python 3.9.2 64-bit",
   "language": "python",
   "name": "python3"
  },
  "language_info": {
   "name": "python",
   "version": "3.9.2"
  },
  "orig_nbformat": 4,
  "vscode": {
   "interpreter": {
    "hash": "75c616fb5c42586eb482b2748f013853c707ac3fc34ec553aa0fa7d7b12dc6b7"
   }
  }
 },
 "nbformat": 4,
 "nbformat_minor": 2
}
