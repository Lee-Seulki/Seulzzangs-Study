{
 "cells": [
  {
   "cell_type": "markdown",
   "metadata": {},
   "source": [
    "# 우선순위 큐(Priority Queue)\n",
    "- 우선순위가 가장 높은 데이터를 가장 먼저 삭제하는 자료구조\n",
    "- 우선순위에 따라 처리하고 싶을 때 사용\n",
    "    - 예시) 물건 데이터를 자료구조에 넣었다가 가치가 높은 물건부터 꺼내서 확인해야 하는 경우\n",
    "- 구현 방식\n",
    "    - 리스트를 이용하여 구현\n",
    "    - 힙을 이용하여 구현\n",
    "- 데이터의 개수가 N개일 때, 시간복잡도\n",
    "    - 리스트 O(1)[삽입], O(N)[삭제]\n",
    "    - 힙 O(logN)[삽입], O(logN)[삭제]\n",
    "- 단순히 N개의 데이터를 힙에 넣었다가 모두 꺼내는 작업은 정렬과 동일 **(힙 정렬)**\n",
    "    - 이 경우 시간복잡도는 O(NlogN)"
   ]
  },
  {
   "cell_type": "markdown",
   "metadata": {},
   "source": [
    "# 힙(Heap)의 특징\n",
    "- 힙은 완전 이진 트리 자료구조의 일종\n",
    "- 항상 **루트노드를 제거**\n",
    "- **최소 힙(min heap)**\n",
    "    - 루트노드가 가장 작은 값을 가짐\n",
    "    - 따라서 값이 작은 데이터가 우선적으로 제거됨\n",
    "- **최대 힙(max heap)**\n",
    "    - 루트 노드가 가장 큰 값을 가짐\n",
    "    - 따라서 값이 큰 데이터가 우선적으로 제거됨"
   ]
  },
  {
   "cell_type": "markdown",
   "metadata": {},
   "source": [
    "# 완전 이진 트리 (Complete Binary Tree)\n",
    "- 루트 노드부터 시작하여 왼쪽 자식 노드, 오른쪽 자식 노드 순서대로 데이터가 차례대로 삽입되는 트리를 의미"
   ]
  },
  {
   "cell_type": "markdown",
   "metadata": {},
   "source": [
    "# 최소 힙 구성 함수 : Min-Heapify()\n",
    "- (상향식) 부모 노드로 거슬러 올라가며, 부모보다 자신의 값이 더 작은 경우에 위치를 교체함\n",
    "\n",
    "![](min-heapify().png)\n",
    "\n",
    "# 힙에 새로운 원소가 삽입될 때\n",
    "- 새로운 원소가 삽입되었을 때 O(logN)의 시간 복잡도로 힙 성질을 유지하도록 할 수 있음\n",
    "# 힙에서 원소가 제거될 때\n",
    "- 원소가 제거되었을 때 O(logN)의 시간 복잡도로 힙 성질을 유지하도록 할 수 있음\n",
    "    - 원소를 제거할 때는 가장 마지막 노드가 루트 노드의 위치에 오도록 함\n",
    "    - 이후 루트 노드에서부터 하향식으로 (더 작은 자식 노드로) Heapify()를 진행"
   ]
  },
  {
   "cell_type": "code",
   "execution_count": 2,
   "metadata": {},
   "outputs": [
    {
     "name": "stdout",
     "output_type": "stream",
     "text": [
      "1\n",
      "2\n",
      "3\n",
      "4\n",
      "10\n"
     ]
    }
   ],
   "source": [
    "# 우선순위 큐 라이브러리를 활용한 힙 정렬 구현 예제\n",
    "import sys\n",
    "import heapq\n",
    "# input = sys.stdin.readline\n",
    "\n",
    "def heapsort(iterable):\n",
    "    h = []\n",
    "    result = []\n",
    "    # 모든 원소를 차례대로 힙에 삽입\n",
    "    for value in iterable:\n",
    "        heapq.heappush(h, value)\n",
    "    # 힙에 삽입된 모든 원소를 차례대로 꺼내어 담기\n",
    "    for i in range(len(h)):\n",
    "        result.append(heapq.heappop(h))\n",
    "    return result\n",
    "\n",
    "n = int(input())\n",
    "arr = []\n",
    "\n",
    "for i in range(n):\n",
    "    arr.append(int(input()))\n",
    "\n",
    "res = heapsort(arr)\n",
    "\n",
    "for i in range(n):\n",
    "    print(res[i]) # 오름차순 정렬된 결과"
   ]
  }
 ],
 "metadata": {
  "kernelspec": {
   "display_name": "Python 3.9.2 64-bit",
   "language": "python",
   "name": "python3"
  },
  "language_info": {
   "codemirror_mode": {
    "name": "ipython",
    "version": 3
   },
   "file_extension": ".py",
   "mimetype": "text/x-python",
   "name": "python",
   "nbconvert_exporter": "python",
   "pygments_lexer": "ipython3",
   "version": "3.9.2"
  },
  "orig_nbformat": 4,
  "vscode": {
   "interpreter": {
    "hash": "75c616fb5c42586eb482b2748f013853c707ac3fc34ec553aa0fa7d7b12dc6b7"
   }
  }
 },
 "nbformat": 4,
 "nbformat_minor": 2
}
