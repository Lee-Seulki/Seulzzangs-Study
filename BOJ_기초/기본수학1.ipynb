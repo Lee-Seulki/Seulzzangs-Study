{
 "cells": [
  {
   "cell_type": "markdown",
   "metadata": {},
   "source": [
    "# 1712번"
   ]
  },
  {
   "cell_type": "code",
   "execution_count": null,
   "metadata": {},
   "outputs": [],
   "source": [
    "A, B, C = map(int, input().split())\n",
    "# C가 A+B보다 많아지게되는 지점을 손익분기점\n",
    "# 총 수입 = 고정비용 + 가변비용\n",
    "# C*N = A + B*N \n",
    "# 최초로 이익이 발생하는 판매량 출력\n",
    "if B >= C:\n",
    "    print(-1)\n",
    "else:\n",
    "    print(A//(C-B)+1)"
   ]
  },
  {
   "cell_type": "markdown",
   "metadata": {},
   "source": [
    "# 2292번"
   ]
  },
  {
   "cell_type": "code",
   "execution_count": 1,
   "metadata": {},
   "outputs": [
    {
     "name": "stdout",
     "output_type": "stream",
     "text": [
      "2\n"
     ]
    }
   ],
   "source": [
    "N = int(input())\n",
    "# 6의 배수만큼 커짐(한바퀴)\n",
    "nums = 1 # 벌집의 개수\n",
    "cnt = 1 # 시작과 끝 값 포함\n",
    "while N > nums:\n",
    "    nums += 6 * cnt\n",
    "    cnt += 1\n",
    "\n",
    "print(cnt)"
   ]
  },
  {
   "cell_type": "markdown",
   "metadata": {},
   "source": [
    "# 1193번"
   ]
  },
  {
   "cell_type": "code",
   "execution_count": 2,
   "metadata": {},
   "outputs": [
    {
     "name": "stdout",
     "output_type": "stream",
     "text": [
      "2/4\n"
     ]
    }
   ],
   "source": [
    "# 1 2 4 7 11 16 : 1, 2, 3, 4, 5씩 늘어남(분자)\n",
    "# 지그재그로 갈 때 분자는 3, 2, 1 분모는 1, 2, 3\n",
    "\n",
    "# 문제 잘못읽음..\n",
    "# 짝수 라인일 때 분자는 1-> n으로 홀수라인일 때 분자는 n->1으로\n",
    "# 분모는 반대로\n",
    "X = int(input()) \n",
    "line = 1\n",
    "while X > line:\n",
    "    X -= line\n",
    "    line += 1\n",
    "\n",
    "if line %2 == 0:\n",
    "    top = X\n",
    "    under = line-X+1\n",
    "else:\n",
    "    top = line-X+1\n",
    "    under = X\n",
    "\n",
    "print(f'{top}/{under}')"
   ]
  },
  {
   "cell_type": "markdown",
   "metadata": {},
   "source": [
    "# 2869번"
   ]
  },
  {
   "cell_type": "code",
   "execution_count": 7,
   "metadata": {},
   "outputs": [
    {
     "ename": "KeyboardInterrupt",
     "evalue": "",
     "output_type": "error",
     "traceback": [
      "\u001b[1;31m---------------------------------------------------------------------------\u001b[0m",
      "\u001b[1;31mKeyboardInterrupt\u001b[0m                         Traceback (most recent call last)",
      "\u001b[1;32mc:\\Users\\doobe\\OneDrive\\바탕 화면\\sesac\\Seulzzangs-Study\\BOJ_기초\\기본수학1.ipynb 셀 8\u001b[0m in \u001b[0;36m<cell line: 6>\u001b[1;34m()\u001b[0m\n\u001b[0;32m      <a href='vscode-notebook-cell:/c%3A/Users/doobe/OneDrive/%EB%B0%94%ED%83%95%20%ED%99%94%EB%A9%B4/sesac/Seulzzangs-Study/BOJ_%EA%B8%B0%EC%B4%88/%EA%B8%B0%EB%B3%B8%EC%88%98%ED%95%991.ipynb#X11sZmlsZQ%3D%3D?line=5'>6</a>\u001b[0m     \u001b[39mif\u001b[39;00m n\u001b[39m*\u001b[39mA \u001b[39m-\u001b[39m n\u001b[39m*\u001b[39mB \u001b[39m>\u001b[39m\u001b[39m=\u001b[39m V:\n\u001b[0;32m      <a href='vscode-notebook-cell:/c%3A/Users/doobe/OneDrive/%EB%B0%94%ED%83%95%20%ED%99%94%EB%A9%B4/sesac/Seulzzangs-Study/BOJ_%EA%B8%B0%EC%B4%88/%EA%B8%B0%EB%B3%B8%EC%88%98%ED%95%991.ipynb#X11sZmlsZQ%3D%3D?line=6'>7</a>\u001b[0m         \u001b[39mbreak\u001b[39;00m\n\u001b[1;32m----> <a href='vscode-notebook-cell:/c%3A/Users/doobe/OneDrive/%EB%B0%94%ED%83%95%20%ED%99%94%EB%A9%B4/sesac/Seulzzangs-Study/BOJ_%EA%B8%B0%EC%B4%88/%EA%B8%B0%EB%B3%B8%EC%88%98%ED%95%991.ipynb#X11sZmlsZQ%3D%3D?line=7'>8</a>\u001b[0m     n \u001b[39m+\u001b[39m\u001b[39m=\u001b[39m \u001b[39m1\u001b[39m\n\u001b[0;32m      <a href='vscode-notebook-cell:/c%3A/Users/doobe/OneDrive/%EB%B0%94%ED%83%95%20%ED%99%94%EB%A9%B4/sesac/Seulzzangs-Study/BOJ_%EA%B8%B0%EC%B4%88/%EA%B8%B0%EB%B3%B8%EC%88%98%ED%95%991.ipynb#X11sZmlsZQ%3D%3D?line=8'>9</a>\u001b[0m \u001b[39mprint\u001b[39m(n)\n",
      "\u001b[1;31mKeyboardInterrupt\u001b[0m: "
     ]
    }
   ],
   "source": [
    "A, B, V = map(int, input().split())\n",
    "# n*A - n*B >= V\n",
    "# 정상에 올라간 후에는 미끄러지지 않는다\n",
    "n = 0\n",
    "while True:\n",
    "    if n*A - n*B >= V:\n",
    "        break\n",
    "    n += 1\n",
    "print(n)\n",
    "\n",
    "# 시간초과"
   ]
  },
  {
   "cell_type": "code",
   "execution_count": 14,
   "metadata": {},
   "outputs": [
    {
     "name": "stdout",
     "output_type": "stream",
     "text": [
      "999999901\n"
     ]
    }
   ],
   "source": [
    "# n*A - n*B >= V\n",
    "import sys\n",
    "input = sys.stdin.readline\n",
    "import math\n",
    "\n",
    "A, B, V = map(int, input().split())\n",
    "day = (V-B) / (A-B)\n",
    "print(math.ceil(day))"
   ]
  },
  {
   "cell_type": "markdown",
   "metadata": {},
   "source": [
    "# 10250번"
   ]
  },
  {
   "cell_type": "code",
   "execution_count": 21,
   "metadata": {},
   "outputs": [
    {
     "name": "stdout",
     "output_type": "stream",
     "text": [
      "402\n",
      "1203\n"
     ]
    }
   ],
   "source": [
    "# 정문으로부터 걷는 거리가 가장 짧도록 방을 배정하는 프로그램\n",
    "T = int(input())\n",
    "\n",
    "for _ in range(T):\n",
    "    H, W, N = map(int, input().split())\n",
    "    floor = N%H\n",
    "    room_num = N//H+1\n",
    "    if N%H == 0: # N이 H의 배수이면\n",
    "        floor = H\n",
    "        room_num = N//H\n",
    "    room = floor*100 + room_num\n",
    "    print(room)\n"
   ]
  }
 ],
 "metadata": {
  "kernelspec": {
   "display_name": "Python 3.9.12 ('base')",
   "language": "python",
   "name": "python3"
  },
  "language_info": {
   "codemirror_mode": {
    "name": "ipython",
    "version": 3
   },
   "file_extension": ".py",
   "mimetype": "text/x-python",
   "name": "python",
   "nbconvert_exporter": "python",
   "pygments_lexer": "ipython3",
   "version": "3.9.12"
  },
  "orig_nbformat": 4,
  "vscode": {
   "interpreter": {
    "hash": "0c88dec16c93f47170215a53cf7477c4a0cc1196ba34a3f4176455b39585efd4"
   }
  }
 },
 "nbformat": 4,
 "nbformat_minor": 2
}
