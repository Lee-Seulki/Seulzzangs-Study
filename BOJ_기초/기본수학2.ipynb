{
 "cells": [
  {
   "cell_type": "markdown",
   "metadata": {},
   "source": [
    "# 1978번"
   ]
  },
  {
   "cell_type": "code",
   "execution_count": 8,
   "metadata": {},
   "outputs": [
    {
     "name": "stdout",
     "output_type": "stream",
     "text": [
      "3\n"
     ]
    }
   ],
   "source": [
    "import math\n",
    "# 소수 판별 알고리즘\n",
    "def isPrime(n):\n",
    "    if n == 1:\n",
    "        return False\n",
    "    for i in range(2, int(math.sqrt(n))+1):\n",
    "        if n % i == 0:\n",
    "            return False\n",
    "    return True\n",
    "\n",
    "N = int(input())\n",
    "nums = map(int, input().split())\n",
    "cnt = 0 # 소수의 개수\n",
    "\n",
    "for num in nums:\n",
    "    if isPrime(num) == True:\n",
    "        cnt += 1\n",
    "\n",
    "print(cnt)"
   ]
  },
  {
   "cell_type": "markdown",
   "metadata": {},
   "source": [
    "# 2581번"
   ]
  },
  {
   "cell_type": "code",
   "execution_count": 20,
   "metadata": {},
   "outputs": [
    {
     "name": "stdout",
     "output_type": "stream",
     "text": [
      "620\n",
      "61\n"
     ]
    }
   ],
   "source": [
    "M = int(input())\n",
    "N = int(input())\n",
    "\n",
    "# M 이상 N 이하의 자연수 중 소수인 것을 모두 찾아 첫째 줄에 합, 둘째 줄에 최솟값\n",
    "# 소수가 없을 경우 첫째줄에 -1\n",
    "import math\n",
    "# 소수 판별 알고리즘\n",
    "def isPrime(n):\n",
    "    if n == 1:\n",
    "        return False\n",
    "    for i in range(2, int(math.sqrt(n))+1):\n",
    "        if n % i == 0:\n",
    "            return False\n",
    "    return True\n",
    "\n",
    "sosu = []\n",
    "for i in range(M, N+1):\n",
    "    if isPrime(i) == True:\n",
    "        sosu.append(i)\n",
    "\n",
    "if sosu == []:\n",
    "    print(-1)\n",
    "else:\n",
    "    print(sum(sosu))\n",
    "    print(min(sosu))"
   ]
  },
  {
   "cell_type": "markdown",
   "metadata": {},
   "source": [
    "# 11653번"
   ]
  },
  {
   "cell_type": "code",
   "execution_count": 36,
   "metadata": {},
   "outputs": [
    {
     "name": "stdout",
     "output_type": "stream",
     "text": [
      "2\n",
      "2\n",
      "2\n",
      "2\n",
      "2\n",
      "2\n"
     ]
    }
   ],
   "source": [
    "import math\n",
    "N = int(input())\n",
    "ans = []\n",
    "# 소인수분해 알고리즘\n",
    "# 그 수의 약수 중 소수를 골라 그의 곱으로 나타내는 것\n",
    "# 가장 작은 소수로 계속 나누어서 마지막 소수가 나올 때 까지 나눈다\n",
    "def isPrime(n):\n",
    "    if n == 1:\n",
    "        return False\n",
    "    for i in range(2, int(math.sqrt(n))+1):\n",
    "        if n % i == 0:\n",
    "            return False\n",
    "    return True\n",
    "\n",
    "for i in range(2, N):\n",
    "    if isPrime(i) == True:\n",
    "        sosu = i\n",
    "        break\n",
    "\n",
    "while N != 1:\n",
    "    ans.append(sosu)\n",
    "    N = N // sosu\n",
    "\n",
    "ans.sort\n",
    "for an in ans:\n",
    "    print(an)"
   ]
  },
  {
   "cell_type": "code",
   "execution_count": 31,
   "metadata": {},
   "outputs": [
    {
     "name": "stdout",
     "output_type": "stream",
     "text": [
      "97\n",
      "103\n"
     ]
    }
   ],
   "source": [
    "N = int(input())\n",
    "m = 2\n",
    "while N != 1:  # N과 m을 나눴을 때 몫이 1이 되면 멈춤.\n",
    "  if N % m == 0: \n",
    "    print(m) \n",
    "    N = N // m\n",
    "  else:\n",
    "    m += 1"
   ]
  },
  {
   "cell_type": "markdown",
   "metadata": {},
   "source": [
    "# 1929번"
   ]
  },
  {
   "cell_type": "code",
   "execution_count": 37,
   "metadata": {},
   "outputs": [
    {
     "name": "stdout",
     "output_type": "stream",
     "text": [
      "3\n",
      "5\n",
      "7\n",
      "11\n",
      "13\n"
     ]
    }
   ],
   "source": [
    "# 일반 소수판별 알고리즘\n",
    "import math\n",
    "def isPrime(n):\n",
    "    if n == 1:\n",
    "        return False\n",
    "    for i in range(2, int(math.sqrt(n))+1):\n",
    "        if n % i == 0:\n",
    "            return False\n",
    "    return True\n",
    "\n",
    "M, N = map(int, input().split())\n",
    "for i in range(M, N+1):\n",
    "    if isPrime(i) == True:\n",
    "        print(i)"
   ]
  },
  {
   "cell_type": "markdown",
   "metadata": {},
   "source": [
    "# 4948번"
   ]
  },
  {
   "cell_type": "code",
   "execution_count": 3,
   "metadata": {},
   "outputs": [
    {
     "name": "stdout",
     "output_type": "stream",
     "text": [
      "1\n",
      "4\n",
      "3\n",
      "21\n",
      "135\n",
      "8392\n",
      "0\n",
      "8392\n"
     ]
    }
   ],
   "source": [
    "# n보다 크고, 2n보다 작거나 같은 소수의 개수\n",
    "def isPrime(n):\n",
    "    if n == 1:\n",
    "        return False\n",
    "    for i in range(2, int(n**(1/2))+1):\n",
    "        if n % i == 0:\n",
    "            return False\n",
    "    return True\n",
    "\n",
    "numlist = list(range(2, 246912))\n",
    "memo = []\n",
    "\n",
    "for i in numlist:\n",
    "    if isPrime(i):\n",
    "        memo.append(i)\n",
    "\n",
    "while True:\n",
    "    n = int(input())\n",
    "    sosu = 0\n",
    "    if n == 0:\n",
    "        break\n",
    "    for m in memo:\n",
    "        if n < m <= 2*n:\n",
    "            sosu += 1\n",
    "    print(sosu)\n"
   ]
  }
 ],
 "metadata": {
  "kernelspec": {
   "display_name": "Python 3.9.2 64-bit",
   "language": "python",
   "name": "python3"
  },
  "language_info": {
   "codemirror_mode": {
    "name": "ipython",
    "version": 3
   },
   "file_extension": ".py",
   "mimetype": "text/x-python",
   "name": "python",
   "nbconvert_exporter": "python",
   "pygments_lexer": "ipython3",
   "version": "3.9.2"
  },
  "orig_nbformat": 4,
  "vscode": {
   "interpreter": {
    "hash": "75c616fb5c42586eb482b2748f013853c707ac3fc34ec553aa0fa7d7b12dc6b7"
   }
  }
 },
 "nbformat": 4,
 "nbformat_minor": 2
}
