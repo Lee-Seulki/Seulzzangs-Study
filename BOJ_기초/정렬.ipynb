{
 "cells": [
  {
   "cell_type": "markdown",
   "metadata": {},
   "source": [
    "# 2750번\n",
    "- 시간 복잡도가 `O(n²)`인 정렬 알고리즘으로 풀 수 있습니다. 예를 들면 삽입 정렬, 거품 정렬 등이 있습니다."
   ]
  },
  {
   "cell_type": "code",
   "execution_count": 1,
   "metadata": {},
   "outputs": [
    {
     "name": "stdout",
     "output_type": "stream",
     "text": [
      "1\n",
      "2\n",
      "3\n",
      "4\n",
      "5\n"
     ]
    }
   ],
   "source": [
    "N = int(input())\n",
    "numlist = []\n",
    "for _ in range(N):\n",
    "    k = int(input())\n",
    "    numlist.append(k)\n",
    "numlist.sort()\n",
    "for num in numlist:\n",
    "    print(num)"
   ]
  },
  {
   "cell_type": "markdown",
   "metadata": {},
   "source": [
    "# 2751번\n",
    "- 시간 복잡도가 `O(nlogn)`인 정렬 알고리즘으로 풀 수 있습니다. 예를 들면 병합 정렬, 힙 정렬 등이 있지만, 어려운 알고리즘이므로 지금은 언어에 내장된 정렬 함수를 쓰는 것을 추천드립니다."
   ]
  },
  {
   "cell_type": "code",
   "execution_count": 3,
   "metadata": {},
   "outputs": [
    {
     "name": "stdout",
     "output_type": "stream",
     "text": [
      "1\n",
      "2\n",
      "3\n",
      "4\n",
      "5\n"
     ]
    }
   ],
   "source": [
    "import sys\n",
    "# input = sys.stdin.readline()\n",
    "N = int(input())\n",
    "numlist = []\n",
    "for _ in range(N):\n",
    "    numlist.append(int(sys.stdin.readline()))\n",
    "\n",
    "numlist.sort()\n",
    "\n",
    "print('\\n'.join(map(str, numlist)))"
   ]
  },
  {
   "cell_type": "markdown",
   "metadata": {},
   "source": [
    "# 10989번\n",
    "- 계수 정렬"
   ]
  },
  {
   "cell_type": "code",
   "execution_count": null,
   "metadata": {},
   "outputs": [],
   "source": [
    "import sys\n",
    "\n",
    "N = int(input())\n",
    "\n",
    "count = [0] * 10001\n",
    "for i in range(N):\n",
    "    input_num = int(sys.stdin.readline())\n",
    "    count[input_num] += 1\n",
    "\n",
    "for i in range(len(count)):\n",
    "    for j in range(count[i]):\n",
    "        print(i)"
   ]
  },
  {
   "cell_type": "markdown",
   "metadata": {},
   "source": [
    "# 25305번"
   ]
  },
  {
   "cell_type": "code",
   "execution_count": 3,
   "metadata": {},
   "outputs": [
    {
     "name": "stdout",
     "output_type": "stream",
     "text": [
      "98\n"
     ]
    }
   ],
   "source": [
    "N, k = map(int, input().split())\n",
    "print(sorted(map(int, input().split()), reverse=True)[k-1])"
   ]
  },
  {
   "cell_type": "markdown",
   "metadata": {},
   "source": [
    "# 2108번"
   ]
  },
  {
   "cell_type": "code",
   "execution_count": 20,
   "metadata": {},
   "outputs": [
    {
     "name": "stdout",
     "output_type": "stream",
     "text": [
      "2\n",
      "2\n",
      "1\n",
      "10\n"
     ]
    }
   ],
   "source": [
    "from collections import Counter\n",
    "import sys\n",
    "\n",
    "N = int(sys.stdin.readline())\n",
    "nums = []\n",
    "for _ in range(N):\n",
    "    nums.append(int(sys.stdin.readline()))\n",
    "\n",
    "nums.sort()\n",
    "nums_avg = round(sum(nums)/N)\n",
    "nums_median = nums[N//2]\n",
    "\n",
    "# 최빈값 중 두 번째로 작은 값을 출력한다.\n",
    "cnt = Counter(nums)\n",
    "mode = cnt.most_common(2)\n",
    "nums_mode = mode[1][0]\n",
    "nums_range = max(nums)-min(nums)\n",
    "\n",
    "print(nums_avg)\n",
    "print(nums_median)\n",
    "print(nums_mode)\n",
    "print(nums_range)"
   ]
  },
  {
   "cell_type": "code",
   "execution_count": 13,
   "metadata": {},
   "outputs": [],
   "source": [
    "from collections import Counter\n",
    "import sys\n",
    "\n",
    "N = int(sys.stdin.readline())\n",
    "nums = []\n",
    "for _ in range(N):\n",
    "    nums.append(int(sys.stdin.readline()))\n",
    "\n",
    "nums.sort()\n",
    "print(round(sum(nums)/N))\n",
    "print(nums[N//2])\n",
    "\n",
    "# 최빈값 중 두 번째로 작은 값을 출력한다.\n",
    "nums_mode = Counter(nums).most_common()\n",
    "if len(nums_mode) > 1:\n",
    "    if nums_mode[0][1] == nums_mode[1][1]:\n",
    "        print(nums_mode[1][0])\n",
    "    else:\n",
    "        print(nums_mode[0][0])\n",
    "else:\n",
    "    print(nums_mode[0][0])\n",
    "\n",
    "print(max(nums)-min(nums))\n",
    "# print(nums[-1] - nums[0])"
   ]
  }
 ],
 "metadata": {
  "kernelspec": {
   "display_name": "Python 3.10.4 ('study')",
   "language": "python",
   "name": "python3"
  },
  "language_info": {
   "codemirror_mode": {
    "name": "ipython",
    "version": 3
   },
   "file_extension": ".py",
   "mimetype": "text/x-python",
   "name": "python",
   "nbconvert_exporter": "python",
   "pygments_lexer": "ipython3",
   "version": "3.10.4"
  },
  "orig_nbformat": 4,
  "vscode": {
   "interpreter": {
    "hash": "265738b0ff0e8c454188584953ec5ef2c5c2260cd2f18afc6053d979e67323cd"
   }
  }
 },
 "nbformat": 4,
 "nbformat_minor": 2
}
